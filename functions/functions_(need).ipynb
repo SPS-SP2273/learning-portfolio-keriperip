{
 "cells": [
  {
   "cell_type": "markdown",
   "id": "123456",
   "metadata": {},
   "source": [
    "<div style=\"text-align:left;font-size:2em\"><span style=\"font-weight:bolder;font-size:1.25em\">SP2273 | Learning Portfolio</span><br><br><span style=\"font-weight:bold;color:darkred\">Functions (Need)</span></div>"
   ]
  },
  {
   "cell_type": "markdown",
   "id": "fbdcd3ba",
   "metadata": {},
   "source": [
    "## 1 User defined functions"
   ]
  },
  {
   "cell_type": "markdown",
   "id": "2257ed54",
   "metadata": {},
   "source": [
    "### 1.1 Named functions that return"
   ]
  },
  {
   "cell_type": "code",
   "execution_count": 2,
   "id": "a7905d7d",
   "metadata": {},
   "outputs": [
    {
     "data": {
      "text/plain": [
       "'Hello Super Man!'"
      ]
     },
     "execution_count": 2,
     "metadata": {},
     "output_type": "execute_result"
    }
   ],
   "source": [
    "def greeting(name):\n",
    "    if name == 'Batman':\n",
    "        return 'Hello Batman! So, nice to meet you!'\n",
    "    else:\n",
    "        return f'Hello {name}!'\n",
    "\n",
    "greeting(name=\"Super Man\")\n",
    "\n",
    "#wait isnt the equal sign redundant coz the system alr recognises the inside of the bracket as the argument?"
   ]
  },
  {
   "cell_type": "markdown",
   "id": "8c33288f",
   "metadata": {},
   "source": [
    "### 1.2 Named functions that don’t return"
   ]
  },
  {
   "cell_type": "code",
   "execution_count": null,
   "id": "76ca68f8",
   "metadata": {},
   "outputs": [],
   "source": [
    "#print function \n",
    "#my created function = lambda argument : single expression equation\n",
    "\n"
   ]
  },
  {
   "cell_type": "markdown",
   "id": "5d035c29",
   "metadata": {},
   "source": [
    "### 1.3 Anonymous functions"
   ]
  },
  {
   "cell_type": "code",
   "execution_count": 17,
   "id": "95eedcfa",
   "metadata": {},
   "outputs": [
    {
     "name": "stdout",
     "output_type": "stream",
     "text": [
      "what is ur namemike\n"
     ]
    },
    {
     "data": {
      "text/plain": [
       "'Hello Mike'"
      ]
     },
     "execution_count": 17,
     "metadata": {},
     "output_type": "execute_result"
    }
   ],
   "source": [
    "#lambda equivalent\n",
    "def function():\n",
    "    name = (input(\"what is ur name\").title())\n",
    "    return(\"Hello \"+(name))\n",
    "\n",
    "function()"
   ]
  },
  {
   "cell_type": "code",
   "execution_count": 41,
   "id": "d016cea2",
   "metadata": {},
   "outputs": [
    {
     "name": "stdout",
     "output_type": "stream",
     "text": [
      "what we adding?mike\n",
      "Hello Mike\n"
     ]
    }
   ],
   "source": [
    "what_is_this_lambda = lambda name : print(f\"hello {name}\".title())\n",
    "\n",
    "#input coz i cant make up my mind\n",
    "wtv = input(\"what we adding?\")\n",
    "\n",
    "what_is_this_lambda(wtv)"
   ]
  },
  {
   "cell_type": "code",
   "execution_count": 45,
   "id": "d3883a5f",
   "metadata": {},
   "outputs": [
    {
     "data": {
      "text/plain": [
       "[[9, 0, 10],\n",
       " [8, 1, 11],\n",
       " [7, 2, 12],\n",
       " [6, 3, 13],\n",
       " [5, 4, 14],\n",
       " [4, 5, 15],\n",
       " [3, 6, 16],\n",
       " [2, 7, 17],\n",
       " [1, 8, 18],\n",
       " [0, 9, 19]]"
      ]
     },
     "execution_count": 45,
     "metadata": {},
     "output_type": "execute_result"
    }
   ],
   "source": [
    "numbers=[[9, 0, 10],\n",
    "         [8, 1, 11],\n",
    "         [7, 2, 12],\n",
    "         [6, 3, 13],\n",
    "         [5, 4, 14],\n",
    "         [4, 5, 15],\n",
    "         [3, 6, 16],\n",
    "         [2, 7, 17],\n",
    "         [1, 8, 18],\n",
    "         [0, 9, 19]]\n",
    "\n",
    "sorted(numbers, key = lambda x: x[2])  # Sort by comparing a custom key\n",
    "                                        # that uses the sum of the elements\n",
    "\n",
    "#nested lists\n",
    "#sorted lambda function to sort by 3rd element in each smaller list"
   ]
  },
  {
   "cell_type": "markdown",
   "id": "56f639e0",
   "metadata": {},
   "source": [
    "### 1.4 Optional arguments"
   ]
  },
  {
   "cell_type": "code",
   "execution_count": 48,
   "id": "4001b0a5",
   "metadata": {},
   "outputs": [
    {
     "data": {
      "text/plain": [
       "'Hello no one!'"
      ]
     },
     "execution_count": 48,
     "metadata": {},
     "output_type": "execute_result"
    }
   ],
   "source": [
    "def greeting(name='no one'):\n",
    "    if name == 'Batman':\n",
    "        return 'Hello Batman! So, nice to meet you!'\n",
    "    else:\n",
    "        return f'Hello {name}!'\n",
    "    \n",
    "greeting()\n",
    "\n",
    "#assign default argument with equal sign at start of function creation  "
   ]
  },
  {
   "cell_type": "markdown",
   "id": "c8680919",
   "metadata": {},
   "source": [
    "## 2 The importance of functions?"
   ]
  },
  {
   "cell_type": "markdown",
   "id": "90c2f559",
   "metadata": {},
   "source": [
    "### 2.1 An argument for functions"
   ]
  },
  {
   "cell_type": "code",
   "execution_count": null,
   "id": "18d2485e",
   "metadata": {},
   "outputs": [],
   "source": [
    "#specifics of print\n",
    "\n",
    "print('I', 'am', 'Batman!')                 # Just for comparison\n",
    "#> I am Batman!\n",
    "print('I', 'am', 'Batman!', sep='---')  \n",
    "#> I---am---Batman!"
   ]
  },
  {
   "cell_type": "markdown",
   "id": "01a33d25",
   "metadata": {},
   "source": [
    "### 2.2 A word of caution"
   ]
  },
  {
   "cell_type": "markdown",
   "id": "55819f39",
   "metadata": {},
   "source": [
    "NA"
   ]
  },
  {
   "cell_type": "markdown",
   "id": "62bbf376",
   "metadata": {},
   "source": [
    "## Exercise 1 :  Do you know why?"
   ]
  },
  {
   "cell_type": "code",
   "execution_count": 3,
   "id": "175dacb5",
   "metadata": {},
   "outputs": [
    {
     "data": {
      "text/plain": [
       "'Hello mike!'"
      ]
     },
     "execution_count": 3,
     "metadata": {},
     "output_type": "execute_result"
    }
   ],
   "source": [
    "def greeting(name):\n",
    "    if name == 'Batman':\n",
    "        return 'Hello Batman! So, nice to meet you!'\n",
    "    return f'Hello {name}!'\n",
    "\n",
    "greeting(\"mike\")"
   ]
  },
  {
   "cell_type": "markdown",
   "id": "a8133bb5",
   "metadata": {},
   "source": [
    "In place of the usual else condition there is now a second return function to act as an else condition"
   ]
  },
  {
   "cell_type": "markdown",
   "id": "f58cd3eb",
   "metadata": {},
   "source": [
    "## Exercise 2 :  Calculator functions"
   ]
  },
  {
   "cell_type": "code",
   "execution_count": 13,
   "id": "3996dabb",
   "metadata": {},
   "outputs": [
    {
     "name": "stdout",
     "output_type": "stream",
     "text": [
      "Oi\n"
     ]
    }
   ],
   "source": [
    "import numpy as np\n",
    "\n",
    "x=np.array([36, 34, 44, 76, 27])\n",
    "y=np.array([64, 66, 56, 24, 73])\n",
    "\n",
    "add = lambda x,y : x + y\n",
    "    \n",
    "subtract = lambda x,y : x-y\n",
    "\n",
    "multiply = lambda x,y: x*y\n",
    "\n",
    "divide = lambda x,y : x/y if (y==0).any() else print (\"Oi\")\n",
    "\n",
    "divide(x,y)\n"
   ]
  },
  {
   "cell_type": "code",
   "execution_count": 9,
   "id": "9abdc8cc",
   "metadata": {},
   "outputs": [
    {
     "name": "stdout",
     "output_type": "stream",
     "text": [
      "Hey you can't do that!\n"
     ]
    }
   ],
   "source": [
    "def multiply(x,y):\n",
    "    return(x+y)\n",
    "    \n",
    "def divide(x,y):\n",
    "    if (y==0).any():\n",
    "        print(\"Hey you can't do that!\")\n",
    "    else:\n",
    "        return(x/y)\n",
    "    \n",
    "def add(x,y):\n",
    "    return(x+y)\n",
    "\n",
    "def subtract(x,y):\n",
    "    return(x-y)\n",
    "\n",
    "#now using the 2 arrays \n",
    "import numpy as np\n",
    "\n",
    "x=np.array([36, 1, 34, 44, 76, 27])\n",
    "y=np.array([64, 0, 66, 56, 24, 73])\n",
    "\n",
    "divide(x,y)"
   ]
  },
  {
   "cell_type": "code",
   "execution_count": 10,
   "id": "e1b20bb9",
   "metadata": {},
   "outputs": [
    {
     "data": {
      "text/plain": [
       "array([False,  True, False, False, False, False])"
      ]
     },
     "execution_count": 10,
     "metadata": {},
     "output_type": "execute_result"
    }
   ],
   "source": [
    "#reminder\n",
    "\n",
    "y==0\n",
    "#as long as one of them is true the whole array will be returned as true"
   ]
  },
  {
   "cell_type": "markdown",
   "id": "47f4230b",
   "metadata": {},
   "source": [
    "## Exercise 3 :  max_info() with NumPy"
   ]
  },
  {
   "cell_type": "code",
   "execution_count": 1,
   "id": "b0720f83",
   "metadata": {},
   "outputs": [
    {
     "data": {
      "text/plain": [
       "(83, 2)"
      ]
     },
     "execution_count": 1,
     "metadata": {},
     "output_type": "execute_result"
    }
   ],
   "source": [
    "#need to convert to array\n",
    "#need to use the .max() and .argmax() command\n",
    "\n",
    "def max_info(numbers):\n",
    "    import numpy as np\n",
    "    npumbers = np.array(numbers)\n",
    "    return (npumbers.max(), npumbers.argmax())\n",
    "\n",
    "#nth is executed after return \n",
    "\n",
    "numbers = [40, 27, 83, 44, 74, 51, 76, 77, 10, 49]\n",
    "\n",
    "max_info(numbers)\n",
    "\n",
    "#a, b = max_info(numbers)\n",
    "\n",
    "#for storing data \n",
    "#i can call a and b separately later"
   ]
  }
 ],
 "metadata": {
  "kernelspec": {
   "display_name": "Python 3 (ipykernel)",
   "language": "python",
   "name": "python3"
  },
  "language_info": {
   "codemirror_mode": {
    "name": "ipython",
    "version": 3
   },
   "file_extension": ".py",
   "mimetype": "text/x-python",
   "name": "python",
   "nbconvert_exporter": "python",
   "pygments_lexer": "ipython3",
   "version": "3.10.8"
  },
  "toc": {
   "base_numbering": 1,
   "nav_menu": {},
   "number_sections": true,
   "sideBar": true,
   "skip_h1_title": false,
   "title_cell": "Table of Contents",
   "title_sidebar": "Contents",
   "toc_cell": false,
   "toc_position": {},
   "toc_section_display": true,
   "toc_window_display": false
  },
  "vscode": {
   "interpreter": {
    "hash": "31f2aee4e71d21fbe5cf8b01ff0e069b9275f58929596ceb00d14d90e3e16cd6"
   }
  }
 },
 "nbformat": 4,
 "nbformat_minor": 5
}
