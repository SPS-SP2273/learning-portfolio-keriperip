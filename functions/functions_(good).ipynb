{
 "cells": [
  {
   "cell_type": "markdown",
   "id": "123456",
   "metadata": {},
   "source": [
    "<div style=\"text-align:left;font-size:2em\"><span style=\"font-weight:bolder;font-size:1.25em\">SP2273 | Learning Portfolio</span><br><br><span style=\"font-weight:bold;color:darkred\">Functions (Good)</span></div>"
   ]
  },
  {
   "cell_type": "markdown",
   "id": "f927500e",
   "metadata": {},
   "source": [
    "## 1 Check, balances and contingencies"
   ]
  },
  {
   "cell_type": "markdown",
   "id": "1684a37a",
   "metadata": {},
   "source": [
    "### 1.1 assert"
   ]
  },
  {
   "cell_type": "code",
   "execution_count": 3,
   "id": "fe7ff047",
   "metadata": {},
   "outputs": [
    {
     "name": "stdout",
     "output_type": "stream",
     "text": [
      "9\n"
     ]
    }
   ],
   "source": [
    "#wait why cannot\n",
    "x=10\n",
    "x -= 1\n",
    "assert x >= 0, \"x is becoming negative!\"\n",
    "print (x)"
   ]
  },
  {
   "cell_type": "markdown",
   "id": "7f326f9f",
   "metadata": {},
   "source": [
    "### 1.2 try-except"
   ]
  },
  {
   "cell_type": "code",
   "execution_count": 5,
   "id": "46001c32",
   "metadata": {},
   "outputs": [
    {
     "name": "stdout",
     "output_type": "stream",
     "text": [
      "Give me a number and I will calculate its square.2\n",
      "The square of 2 is 4!\n"
     ]
    }
   ],
   "source": [
    "try:\n",
    "    number=input(\"Give me a number and I will calculate its square.\")\n",
    "    square=int(number)**2\n",
    "    print(f'The square of {number} is {square}!')\n",
    "except:\n",
    "    print(f\"Oh oh! I cannot square {number}!\")"
   ]
  },
  {
   "cell_type": "code",
   "execution_count": 1,
   "id": "c9537261",
   "metadata": {},
   "outputs": [
    {
     "name": "stdout",
     "output_type": "stream",
     "text": [
      "Let's come up with a random phrase today!1\n",
      "the random word of the day is 1\n"
     ]
    }
   ],
   "source": [
    "#wait isnt this like if else\n",
    "#wait what everything is string\n",
    "try:\n",
    "    word = input(str(\"Let's come up with a random phrase today!\"))\n",
    "    print(f'the random word of the day is {word}')\n",
    "except:\n",
    "    print(\"that does not look like a random word!\")"
   ]
  },
  {
   "cell_type": "markdown",
   "id": "03a04bd2",
   "metadata": {},
   "source": [
    "## 2 Some loose ends"
   ]
  },
  {
   "cell_type": "markdown",
   "id": "d31e35fa",
   "metadata": {},
   "source": [
    "### 2.1 Positional, keyword and default arguments"
   ]
  },
  {
   "cell_type": "code",
   "execution_count": 6,
   "id": "64297d9f",
   "metadata": {},
   "outputs": [],
   "source": [
    "def funny_add(a, b, c=1):\n",
    "    return (a + 10*b + 100*c)\n",
    "#wait what why no output "
   ]
  },
  {
   "cell_type": "markdown",
   "id": "096f559f",
   "metadata": {},
   "source": [
    "### 2.2 Docstrings"
   ]
  },
  {
   "cell_type": "code",
   "execution_count": 7,
   "id": "386bdfd1",
   "metadata": {},
   "outputs": [
    {
     "name": "stdout",
     "output_type": "stream",
     "text": [
      "Help on function funny_add in module __main__:\n",
      "\n",
      "funny_add(a, b, c=1)\n",
      "    A test function to demonstrate how \n",
      "    positional, keyword and default arguments \n",
      "    work.\n",
      "\n"
     ]
    }
   ],
   "source": [
    "def funny_add(a, b, c=1):\n",
    "    '''\n",
    "    A test function to demonstrate how \n",
    "    positional, keyword and default arguments \n",
    "    work.\n",
    "    '''\n",
    "    return a + 10*b + 100*c\n",
    "\n",
    "help(funny_add)"
   ]
  },
  {
   "cell_type": "code",
   "execution_count": 8,
   "id": "38571abe",
   "metadata": {},
   "outputs": [
    {
     "name": "stdout",
     "output_type": "stream",
     "text": [
      "Help on function funny_add in module __main__:\n",
      "\n",
      "funny_add(a, b, c=1)\n",
      "    This is something random\n",
      "\n"
     ]
    }
   ],
   "source": [
    "#what if the description is proper but the function doesn't work?\n",
    "\n",
    "def funny_add(a, b, c=1):\n",
    "    '''\n",
    "   This is something random\n",
    "    '''\n",
    "    return a + 10*b + 100*d\n",
    "\n",
    "help(funny_add)\n",
    "\n",
    "#oh what it only takes in the description"
   ]
  },
  {
   "cell_type": "markdown",
   "id": "c209868e",
   "metadata": {},
   "source": [
    "### 2.3 Function are first class citizens"
   ]
  },
  {
   "cell_type": "code",
   "execution_count": null,
   "id": "125cb1c1",
   "metadata": {},
   "outputs": [],
   "source": [
    "def my_function(angle, trig_function):\n",
    "        return trig_function(angle)\n",
    "\n",
    "# Let's use the function\n",
    "my_function(np.pi/2, np.sin)        \n",
    "#> 1.0\n",
    "my_function(np.pi/2, np.cos)        \n",
    "#> 6.123233995736766e-17\n",
    "my_function(np.pi/2, lambda x: np.cos(2*x))  \n",
    "#> -1.0"
   ]
  },
  {
   "cell_type": "code",
   "execution_count": 10,
   "id": "a83944ff",
   "metadata": {},
   "outputs": [
    {
     "data": {
      "text/plain": [
       "1.4142135623730951"
      ]
     },
     "execution_count": 10,
     "metadata": {},
     "output_type": "execute_result"
    }
   ],
   "source": [
    "import numpy as np\n",
    "import math \n",
    "\n",
    "def new_function(x, calculation):\n",
    "    return calculation(x)\n",
    "\n",
    "new_function(2, math.sqrt)"
   ]
  },
  {
   "cell_type": "code",
   "execution_count": 13,
   "id": "752fa68a",
   "metadata": {},
   "outputs": [
    {
     "ename": "SyntaxError",
     "evalue": "invalid syntax (<string>, line 1)",
     "output_type": "error",
     "traceback": [
      "Traceback \u001b[1;36m(most recent call last)\u001b[0m:\n",
      "\u001b[0m  File \u001b[0;32m~\\miniconda3\\lib\\site-packages\\IPython\\core\\interactiveshell.py:3442\u001b[0m in \u001b[0;35mrun_code\u001b[0m\n    exec(code_obj, self.user_global_ns, self.user_ns)\u001b[0m\n",
      "\u001b[1;36m  Cell \u001b[1;32mIn[13], line 4\u001b[1;36m\n\u001b[1;33m    x = input(eval(\"what do u want x to be\"))\u001b[1;36m\n",
      "\u001b[1;36m  File \u001b[1;32m<string>:1\u001b[1;36m\u001b[0m\n\u001b[1;33m    what do u want x to be\u001b[0m\n\u001b[1;37m         ^\u001b[0m\n\u001b[1;31mSyntaxError\u001b[0m\u001b[1;31m:\u001b[0m invalid syntax\n"
     ]
    }
   ],
   "source": [
    "import numpy as np\n",
    "import math \n",
    "\n",
    "x = input(eval(\"what do u want x to be\"))\n",
    "\n",
    "def new_function(x, calculation):\n",
    "    return calculation(x)\n",
    "\n",
    "new_function(x, lambda x: math.sqrt(x**3))"
   ]
  },
  {
   "cell_type": "markdown",
   "id": "64775f26",
   "metadata": {},
   "source": [
    "### 2.4 More unpacking"
   ]
  },
  {
   "cell_type": "code",
   "execution_count": 15,
   "id": "d53533a6",
   "metadata": {},
   "outputs": [
    {
     "name": "stdout",
     "output_type": "stream",
     "text": [
      "1 [2, 3, 4] 5\n"
     ]
    }
   ],
   "source": [
    "x, *y, z = np.array([1, 2, 3, 4, 5])\n",
    "print(x, y, z)"
   ]
  },
  {
   "cell_type": "code",
   "execution_count": 21,
   "id": "1f4e32af",
   "metadata": {},
   "outputs": [
    {
     "name": "stdout",
     "output_type": "stream",
     "text": [
      "1 2 [3, 4, 5, 6, 7, 8]\n"
     ]
    }
   ],
   "source": [
    "x, y, *z = np.array([1, 2, 3, 4, 5,6,7,8])\n",
    "print(x, y, z)"
   ]
  },
  {
   "cell_type": "code",
   "execution_count": 23,
   "id": "16dc393c",
   "metadata": {},
   "outputs": [
    {
     "name": "stdout",
     "output_type": "stream",
     "text": [
      "7 8\n"
     ]
    }
   ],
   "source": [
    "*_ , y , z= [1, 2, 3, 4, 5,6,7,8]\n",
    "print(y,z)"
   ]
  },
  {
   "cell_type": "markdown",
   "id": "9baee151",
   "metadata": {},
   "source": [
    "## Exercise 1 :  A better calculator I"
   ]
  },
  {
   "cell_type": "code",
   "execution_count": 3,
   "id": "d117c0ac",
   "metadata": {},
   "outputs": [
    {
     "name": "stdout",
     "output_type": "stream",
     "text": [
      "what do u want x to be5\n",
      "what do you want y to be0\n"
     ]
    },
    {
     "ename": "AssertionError",
     "evalue": "not a legit input",
     "output_type": "error",
     "traceback": [
      "\u001b[1;31m---------------------------------------------------------------------------\u001b[0m",
      "\u001b[1;31mAssertionError\u001b[0m                            Traceback (most recent call last)",
      "Cell \u001b[1;32mIn[3], line 21\u001b[0m\n\u001b[0;32m     18\u001b[0m         \u001b[38;5;28;01massert\u001b[39;00m \u001b[38;5;241m0\u001b[39m \u001b[38;5;129;01mnot\u001b[39;00m \u001b[38;5;129;01min\u001b[39;00m y, \u001b[38;5;124m'\u001b[39m\u001b[38;5;124mnot a legit input\u001b[39m\u001b[38;5;124m'\u001b[39m\n\u001b[0;32m     19\u001b[0m         \u001b[38;5;28;01mreturn\u001b[39;00m x\u001b[38;5;241m/\u001b[39my\n\u001b[1;32m---> 21\u001b[0m \u001b[43mdivide\u001b[49m\u001b[43m(\u001b[49m\u001b[43mx\u001b[49m\u001b[43m,\u001b[49m\u001b[43my\u001b[49m\u001b[43m)\u001b[49m\n",
      "Cell \u001b[1;32mIn[3], line 15\u001b[0m, in \u001b[0;36mdivide\u001b[1;34m(x, y)\u001b[0m\n\u001b[0;32m     13\u001b[0m \u001b[38;5;28;01mdef\u001b[39;00m \u001b[38;5;21mdivide\u001b[39m(x, y):\n\u001b[0;32m     14\u001b[0m     \u001b[38;5;28;01mif\u001b[39;00m \u001b[38;5;28mtype\u001b[39m(y) \u001b[38;5;129;01mis\u001b[39;00m \u001b[38;5;28mfloat\u001b[39m \u001b[38;5;129;01mor\u001b[39;00m \u001b[38;5;28mtype\u001b[39m(y) \u001b[38;5;129;01mis\u001b[39;00m \u001b[38;5;28mint\u001b[39m:\n\u001b[1;32m---> 15\u001b[0m         \u001b[38;5;28;01massert\u001b[39;00m y\u001b[38;5;241m!=\u001b[39m \u001b[38;5;241m0\u001b[39m, \u001b[38;5;124m'\u001b[39m\u001b[38;5;124mnot a legit input\u001b[39m\u001b[38;5;124m'\u001b[39m\n\u001b[0;32m     16\u001b[0m         \u001b[38;5;28;01mreturn\u001b[39;00m x\u001b[38;5;241m/\u001b[39my\n\u001b[0;32m     17\u001b[0m     \u001b[38;5;28;01melif\u001b[39;00m \u001b[38;5;28mtype\u001b[39m(y) \u001b[38;5;129;01mis\u001b[39;00m ndarray:\n",
      "\u001b[1;31mAssertionError\u001b[0m: not a legit input"
     ]
    }
   ],
   "source": [
    "#submission box\n",
    "\n",
    "import numpy as np\n",
    "\n",
    "x = float(input(\"what do u want x to be\"))\n",
    "y = float(input(\"what do you want y to be\"))\n",
    "\n",
    "add = lambda x,y : x + y\n",
    "    \n",
    "subtract = lambda x,y : x-y\n",
    "\n",
    "multiply = lambda x,y: x*y\n",
    "\n",
    "def divide(x, y):\n",
    "    if type(y) is float or type(y) is int:\n",
    "        assert y!= 0, 'not a legit input'\n",
    "        return x/y\n",
    "    elif type(y) is ndarray:\n",
    "        assert 0 not in y, 'not a legit input'\n",
    "        return x/y\n",
    "\n",
    "divide(x,y)"
   ]
  },
  {
   "cell_type": "code",
   "execution_count": 35,
   "id": "612ed93e",
   "metadata": {},
   "outputs": [
    {
     "name": "stdout",
     "output_type": "stream",
     "text": [
      "what do u want x to be4\n",
      "what do u want y to be5\n",
      "which function are you looking fordivide \n"
     ]
    },
    {
     "ename": "TypeError",
     "evalue": "'str' object is not callable",
     "output_type": "error",
     "traceback": [
      "\u001b[1;31m---------------------------------------------------------------------------\u001b[0m",
      "\u001b[1;31mTypeError\u001b[0m                                 Traceback (most recent call last)",
      "Cell \u001b[1;32mIn[35], line 34\u001b[0m\n\u001b[0;32m     31\u001b[0m \u001b[38;5;28;01melse\u001b[39;00m:\n\u001b[0;32m     32\u001b[0m     subtract(x,y)\n\u001b[1;32m---> 34\u001b[0m \u001b[43mfunction\u001b[49m\u001b[43m(\u001b[49m\u001b[43mx\u001b[49m\u001b[43m,\u001b[49m\u001b[43my\u001b[49m\u001b[43m)\u001b[49m\n",
      "\u001b[1;31mTypeError\u001b[0m: 'str' object is not callable"
     ]
    }
   ],
   "source": [
    "#ignore\n",
    "assert x != float, \"that is not a legit value\"\n",
    "\n",
    "def multiply(x,y):\n",
    "    return(x+y)\n",
    "    \n",
    "def divide(x,y):\n",
    "    if (y==0).any():\n",
    "        print(\"Hey you can't do that!\")\n",
    "    else:\n",
    "        return(x/y)\n",
    "    \n",
    "def add(x,y):\n",
    "    return(x+y)\n",
    "\n",
    "def subtract(x,y):\n",
    "    return(x-y)\n",
    "\n",
    "import numpy as np\n",
    "\n",
    "x=float(input(\"what do u want x to be\"))\n",
    "y=float(input(\"what do u want y to be\"))\n",
    "\n",
    "function = input(\"which function are you looking for\")\n",
    "\n",
    "if function == multiply:\n",
    "    multiply(x,y)\n",
    "elif function == divide:\n",
    "    divide(x,y)\n",
    "elif function == add:\n",
    "    add(x,y)\n",
    "else:\n",
    "    subtract(x,y)\n",
    "\n",
    "function(x,y)"
   ]
  },
  {
   "cell_type": "markdown",
   "id": "071a64c8",
   "metadata": {},
   "source": [
    "## Exercise 2 :  A better calculator II"
   ]
  },
  {
   "cell_type": "code",
   "execution_count": 10,
   "id": "c0fe0036",
   "metadata": {},
   "outputs": [
    {
     "name": "stdout",
     "output_type": "stream",
     "text": [
      "what do u want x to be4\n",
      "what do u want y to be4\n",
      "which function are you looking foradd\n",
      "that's not right...\n"
     ]
    }
   ],
   "source": [
    "try:\n",
    "    def multiply(x,y):\n",
    "        return(x+y)\n",
    "    \n",
    "    def divide(x,y):\n",
    "        #if (y==0).any():\n",
    "       #     print(\"Hey you can't do that!\")\n",
    "       # else:\n",
    "            return(x/y)\n",
    "    \n",
    "    def add(x,y):\n",
    "        return(x+y)\n",
    "\n",
    "    def subtract(x,y):\n",
    "        return(x-y)\n",
    "\n",
    "    import numpy as np\n",
    "\n",
    "    x=float(input(\"what do u want x to be\"))\n",
    "    y=float(input(\"what do u want y to be\"))\n",
    "\n",
    "    function = input(\"which function are you looking for\")\n",
    "\n",
    "    if function == multiply:\n",
    "        multiply(x,y)\n",
    "    elif function == divide:\n",
    "        divide(x,y)\n",
    "    elif function == add:\n",
    "        add(x,y)\n",
    "    else:\n",
    "        subtract(x,y)\n",
    "\n",
    "    function(x,y)\n",
    "    \n",
    "except:\n",
    "    print(\"that's not right...\")"
   ]
  },
  {
   "cell_type": "code",
   "execution_count": 5,
   "id": "735550be",
   "metadata": {},
   "outputs": [
    {
     "name": "stdout",
     "output_type": "stream",
     "text": [
      "what do u want x to be5\n",
      "what do you want y to be8\n"
     ]
    },
    {
     "data": {
      "text/plain": [
       "0.625"
      ]
     },
     "execution_count": 5,
     "metadata": {},
     "output_type": "execute_result"
    }
   ],
   "source": [
    "#submission box\n",
    "import numpy as np\n",
    "\n",
    "x = float(input(\"what do u want x to be\"))\n",
    "y = float(input(\"what do you want y to be\"))\n",
    "\n",
    "add = lambda x,y : x + y\n",
    "    \n",
    "subtract = lambda x,y : x-y\n",
    "\n",
    "multiply = lambda x,y: x*y\n",
    "\n",
    "def divide(x, y):\n",
    "    try:\n",
    "        if type(y) is float or type(y) is int:\n",
    "            return x/y\n",
    "        elif type(y) is ndarray:\n",
    "            assert 0 not in y, 'not a legit input'\n",
    "            return x/y\n",
    "    except:\n",
    "         print(\"Cannot divide by 0\")\n",
    "\n",
    "divide(x,y)"
   ]
  }
 ],
 "metadata": {
  "kernelspec": {
   "display_name": "Python 3 (ipykernel)",
   "language": "python",
   "name": "python3"
  },
  "language_info": {
   "codemirror_mode": {
    "name": "ipython",
    "version": 3
   },
   "file_extension": ".py",
   "mimetype": "text/x-python",
   "name": "python",
   "nbconvert_exporter": "python",
   "pygments_lexer": "ipython3",
   "version": "3.10.8"
  },
  "toc": {
   "base_numbering": 1,
   "nav_menu": {},
   "number_sections": true,
   "sideBar": true,
   "skip_h1_title": false,
   "title_cell": "Table of Contents",
   "title_sidebar": "Contents",
   "toc_cell": false,
   "toc_position": {},
   "toc_section_display": true,
   "toc_window_display": false
  },
  "vscode": {
   "interpreter": {
    "hash": "31f2aee4e71d21fbe5cf8b01ff0e069b9275f58929596ceb00d14d90e3e16cd6"
   }
  }
 },
 "nbformat": 4,
 "nbformat_minor": 5
}
