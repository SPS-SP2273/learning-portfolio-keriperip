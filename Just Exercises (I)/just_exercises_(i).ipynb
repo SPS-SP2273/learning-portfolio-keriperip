{
 "cells": [
  {
   "cell_type": "markdown",
   "id": "123456",
   "metadata": {},
   "source": [
    "<div style=\"text-align:left;font-size:2em\"><span style=\"font-weight:bolder;font-size:1.25em\">SP2273 | Learning Portfolio</span><br><br><span style=\"font-weight:bold;color:darkred\">Just Exercises (I)</span></div>"
   ]
  },
  {
   "cell_type": "markdown",
   "id": "450b2769",
   "metadata": {},
   "source": [
    "## Exercise 1 :  F-strings to the rescue"
   ]
  },
  {
   "cell_type": "code",
   "execution_count": null,
   "id": "80197d18",
   "metadata": {},
   "outputs": [],
   "source": [
    "#how do i pad zeroes for non-strings and for non-decimal values"
   ]
  },
  {
   "cell_type": "code",
   "execution_count": 4,
   "id": "7dbf9757",
   "metadata": {},
   "outputs": [
    {
     "name": "stdout",
     "output_type": "stream",
     "text": [
      "00001\n",
      "00002\n",
      "00003\n",
      "00004\n",
      "00005\n",
      "00006\n",
      "00007\n",
      "00008\n",
      "00009\n",
      "00010\n"
     ]
    }
   ],
   "source": [
    "for number in range(1,11,1):\n",
    "    print(f'{number:>05}')"
   ]
  },
  {
   "cell_type": "code",
   "execution_count": 12,
   "id": "6b0734cd",
   "metadata": {},
   "outputs": [
    {
     "name": "stdout",
     "output_type": "stream",
     "text": [
      "001          +\n",
      "002         ++\n",
      "003        +++\n",
      "004       ++++\n",
      "005      +++++\n",
      "006     ++++++\n",
      "007    +++++++\n",
      "008   ++++++++\n",
      "009  +++++++++\n",
      "010 ++++++++++\n"
     ]
    }
   ],
   "source": [
    "for number in range(1,11,1):\n",
    "    print(f'{number:>03} {\"+\"*number:>10}')"
   ]
  },
  {
   "cell_type": "code",
   "execution_count": 15,
   "id": "c814ad58",
   "metadata": {},
   "outputs": [
    {
     "name": "stdout",
     "output_type": "stream",
     "text": [
      "001 -                    \n",
      "002 --         +         \n",
      "003 ---        ++        \n",
      "004 ----       +++       \n",
      "005 -----      ++++      \n",
      "006 ------     +++++     \n",
      "007 -------    ++++++    \n",
      "008 --------   +++++++   \n",
      "009 ---------  ++++++++  \n",
      "010 ---------- +++++++++ \n"
     ]
    }
   ],
   "source": [
    "for number in range(1,11,1):\n",
    "    print(f'{number:>03} {\"-\"*number:<10} {\"+\"*(number-1):<10}')"
   ]
  },
  {
   "cell_type": "code",
   "execution_count": 20,
   "id": "e481df25",
   "metadata": {},
   "outputs": [
    {
     "ename": "ValueError",
     "evalue": "Invalid format specifier",
     "output_type": "error",
     "traceback": [
      "\u001b[1;31m---------------------------------------------------------------------------\u001b[0m",
      "\u001b[1;31mValueError\u001b[0m                                Traceback (most recent call last)",
      "Cell \u001b[1;32mIn[20], line 2\u001b[0m\n\u001b[0;32m      1\u001b[0m \u001b[38;5;28;01mfor\u001b[39;00m number \u001b[38;5;129;01min\u001b[39;00m \u001b[38;5;28mrange\u001b[39m(\u001b[38;5;241m1\u001b[39m,\u001b[38;5;241m11\u001b[39m,\u001b[38;5;241m1\u001b[39m):\n\u001b[1;32m----> 2\u001b[0m     \u001b[38;5;28mprint\u001b[39m(\u001b[38;5;124mf\u001b[39m\u001b[38;5;124m'\u001b[39m\u001b[38;5;132;01m{\u001b[39;00mnumber\u001b[38;5;132;01m:\u001b[39;00m\u001b[38;5;124m>03\u001b[39m\u001b[38;5;132;01m}\u001b[39;00m\u001b[38;5;124m \u001b[39m\u001b[38;5;132;01m{\u001b[39;00m\u001b[38;5;124m\"\u001b[39m\u001b[38;5;124m-\u001b[39m\u001b[38;5;124m\"\u001b[39m\u001b[38;5;241m*\u001b[39mnumber\u001b[38;5;132;01m:\u001b[39;00m\u001b[38;5;124m<10 + \u001b[39m\u001b[38;5;124m\"\u001b[39m\u001b[38;5;124m+\u001b[39m\u001b[38;5;124m\"\u001b[39m\u001b[38;5;124m*number:<10\u001b[39m\u001b[38;5;132;01m}\u001b[39;00m\u001b[38;5;124m'\u001b[39m)\n",
      "\u001b[1;31mValueError\u001b[0m: Invalid format specifier"
     ]
    }
   ],
   "source": [
    "for number in range(1,11,1):\n",
    "    print(f'{number:>03} {\"-\"*number:<10 + \"+\"*number:<10}}')"
   ]
  },
  {
   "cell_type": "code",
   "execution_count": 22,
   "id": "b55539bc",
   "metadata": {},
   "outputs": [
    {
     "name": "stdout",
     "output_type": "stream",
     "text": [
      "001 -+++++++++\n",
      "002 --++++++++\n",
      "003 ---+++++++\n",
      "004 ----++++++\n",
      "005 -----+++++\n",
      "006 ------++++\n",
      "007 -------+++\n",
      "008 --------++\n",
      "009 ---------+\n",
      "010 ----------\n"
     ]
    }
   ],
   "source": [
    "for number in range(1,11):\n",
    "    print(f'{number:>03} {\"-\"*number:+<10}')"
   ]
  },
  {
   "cell_type": "code",
   "execution_count": 35,
   "id": "9061ef2a",
   "metadata": {},
   "outputs": [
    {
     "name": "stdout",
     "output_type": "stream",
     "text": [
      "['bruce_exploits.txt', 'bruce_enemies.txt', 'bruce_friends.txt', 'natasha_exploits.txt', 'natasha_enemies.txt', 'natasha_friends.txt', 'tony_exploits.txt', 'tony_enemies.txt', 'tony_friends.txt']\n"
     ]
    }
   ],
   "source": [
    "#creating a list \n",
    "list1 = ['bruce', 'natasha','tony']\n",
    "list2 = ['exploits','enemies','friends']\n",
    "\n",
    "list3 = []\n",
    "\n",
    "for name in list1:\n",
    "    for pairing in list2:\n",
    "        list3.append(f'{name}_{pairing}.txt')\n",
    "\n",
    "print(list3)"
   ]
  },
  {
   "cell_type": "markdown",
   "id": "c3e7285c",
   "metadata": {},
   "source": [
    "# to convert string to list just append to a list"
   ]
  },
  {
   "cell_type": "code",
   "execution_count": 67,
   "id": "9966e333",
   "metadata": {},
   "outputs": [
    {
     "name": "stdout",
     "output_type": "stream",
     "text": [
      "['data_sg_exp-01_trial-001.txt', 'data_sg_exp-01_trial-002.txt', 'data_sg_exp-01_trial-003.txt', 'data_sg_exp-03_trial-048.txt', 'data_sg_exp-03_trial-049.txt', 'data_sg_exp-03_trial-050.txt', 'data_gb_exp-01_trial-001.txt', 'data_gb_exp-01_trial-002.txt', 'data_gb_exp-01_trial-003.txt', 'data_gb_exp-03_trial-048.txt', 'data_gb_exp-03_trial-049.txt', 'data_gb_exp-03_trial-050.txt', 'data_us_exp-01_trial-001.txt', 'data_us_exp-01_trial-002.txt', 'data_us_exp-01_trial-003.txt', 'data_us_exp-03_trial-048.txt', 'data_us_exp-03_trial-049.txt', 'data_us_exp-03_trial-050.txt']\n"
     ]
    }
   ],
   "source": [
    "a1 = ['sg','gb','us']\n",
    "a2 = []\n",
    "\n",
    "for country in a1:\n",
    "    for number in range(1,4):\n",
    "        a2.append(f'data_{country}_exp-01_trial-{number:03}.txt')\n",
    "        \n",
    "    for number2 in range(48,51):\n",
    "        a2.append(f'data_{country}_exp-03_trial-{number2:03}.txt')\n",
    "        \n",
    "print(a2)"
   ]
  },
  {
   "cell_type": "code",
   "execution_count": null,
   "id": "a1e244dd",
   "metadata": {},
   "outputs": [],
   "source": [
    "a1 = ['sg','gb','us']\n",
    "a2 = []\n",
    "\n",
    "for country in a1:\n",
    "    for number in range(1,51):\n",
    "        a2.append(f'data_{country}_exp-01_trial-{number:03}.txt')\n",
    "        \n",
    "    for number2 in range(48,51):\n",
    "        a2.append(f'data_{country}_exp-03_trial-{number2:03}.txt')\n",
    "        \n",
    "print(a2)"
   ]
  },
  {
   "cell_type": "code",
   "execution_count": 54,
   "id": "f1c242c7",
   "metadata": {},
   "outputs": [
    {
     "name": "stdout",
     "output_type": "stream",
     "text": [
      "data_sg_exp-01_trial-001.txt\n",
      "data_sg_exp-01_trial-002.txt\n",
      "data_sg_exp-01_trial-003.txt\n",
      "data_sg_exp-03_trial-048.txt\n",
      "data_sg_exp-03_trial-049.txt\n",
      "data_sg_exp-03_trial-050.txt\n",
      "data_gb_exp-01_trial-001.txt\n",
      "data_gb_exp-01_trial-002.txt\n",
      "data_gb_exp-01_trial-003.txt\n",
      "data_gb_exp-03_trial-048.txt\n",
      "data_gb_exp-03_trial-049.txt\n",
      "data_gb_exp-03_trial-050.txt\n",
      "data_us_exp-01_trial-001.txt\n",
      "data_us_exp-01_trial-002.txt\n",
      "data_us_exp-01_trial-003.txt\n",
      "data_us_exp-03_trial-048.txt\n",
      "data_us_exp-03_trial-049.txt\n",
      "data_us_exp-03_trial-050.txt\n"
     ]
    }
   ],
   "source": [
    "no1 = ['sg','gb','us']\n",
    "\n",
    "for country in no1:\n",
    "    for number in range(1,4):\n",
    "        print(f'data_{country}_exp-01_trial-{number:>03}.txt')\n",
    "    for number2 in range(48,51):\n",
    "        print(f'data_{country}_exp-03_trial-{number2:>03}.txt')"
   ]
  },
  {
   "cell_type": "markdown",
   "id": "90b94ec6",
   "metadata": {},
   "source": [
    "## Exercise 2 :  Tutti frutti"
   ]
  },
  {
   "cell_type": "code",
   "execution_count": null,
   "id": "445a95f8",
   "metadata": {},
   "outputs": [],
   "source": []
  },
  {
   "cell_type": "markdown",
   "id": "0dafee56",
   "metadata": {},
   "source": [
    "## Exercise 3 :  Ciao Fibonacci"
   ]
  },
  {
   "cell_type": "code",
   "execution_count": null,
   "id": "8e76c5cb",
   "metadata": {},
   "outputs": [],
   "source": []
  },
  {
   "cell_type": "markdown",
   "id": "0c1b5871",
   "metadata": {},
   "source": [
    "## Exercise 4 :  A function for Fibonacci"
   ]
  },
  {
   "cell_type": "code",
   "execution_count": null,
   "id": "ae331179",
   "metadata": {},
   "outputs": [],
   "source": [
    "n = []\n",
    "\n"
   ]
  },
  {
   "cell_type": "markdown",
   "id": "b8633b8f",
   "metadata": {},
   "source": [
    "## Exercise 5 :  max_info() without NumPy"
   ]
  },
  {
   "cell_type": "code",
   "execution_count": null,
   "id": "5953c14e",
   "metadata": {},
   "outputs": [],
   "source": [
    "def max_info(numbers):\n",
    "    for "
   ]
  },
  {
   "cell_type": "markdown",
   "id": "40578eb8",
   "metadata": {},
   "source": [
    "## Exercise 6 :  Take count"
   ]
  },
  {
   "cell_type": "code",
   "execution_count": 17,
   "id": "22462286",
   "metadata": {},
   "outputs": [
    {
     "data": {
      "text/plain": [
       "['AGGCAAGAAGCTAGAATTCTGGCCTGAGTATCTCAGTACAGGCGCAGTCGAATCTTCCGGAATCACATTGCTCGCGCTTAAACCCGCTCTAAACCTTTGAGTAATTCGACGACATTGGGTTCCCTCCGACGCTGTCTGACAACTCTTTAAGATCCTTGGCACGATGTCGATAGACATTGTCCCTGATGACGCCTCACAAGGTAACCTGGCTCTAGTAGGGTGGTCTTTGCTGCGGAACTTACCACCTGGTGGATCCAAGCACCAGAGGAGTTCGAAGAGGCTGGGGTACCCCCTATTTAGGAAGGGCGAGACTACGGTCACAAATTCCAAATGGCTTCCCTCGATTCATGACGCCAGAATGCCTGGCTGTGCCAATTTGTCGCCTTGCGTCGTTCTGTCAATCTTTACTCGTGTCGTGTTGTGATAAATGACAAACCCTGCACAACGTAGGGCTCACACAAGGGAATCTAGAGTATCCGATACAGGGAGCTTTAGCTTCCGTCCCTTATAGCCTGCCATATTCTTGCGGTAGCACGAGCCTCAGATCTTCTCACTCCGGAAATGGGAGCTTCGACGGTCAAGGGCTAAGACGTCTTCGGGAGAAATACCTAGGCGATGACCCTGAGTGGTTTTCCGCGTATAACTCATCCTGGTTGCAAATGATTACCGTTATAGCCTGGGGATATGCCTCAATTCCGAACCCAGGAGCATCACTCGAGCAATAGCGGTAAAGGAGGCTATTAGCAAAATTGTCACGATAAGCGCCGTTGTAGTGAAATTAAGATACATACATCGTTTAGCACATCACTCTCACGGCGTCTAGAAGCTGATCTTCATATGCTGACTCAGAAGGCTCGGATAATAGAGGACGAAGGTAGTTTACTCATCGCTGCCCCGACTATTACGTGTGCATGATAAAGTCTGACCCTGACGTTCCCAAGCCGAGGCAGAGGGGTTTTACGCTGAATGTCCGCTCTCTGTCGGATGATTTCGGAAGCTG']"
      ]
     },
     "execution_count": 17,
     "metadata": {},
     "output_type": "execute_result"
    }
   ],
   "source": [
    "dna = 'AGGCAAGAAGCTAGAATTCTGGCCTGAGTATCTCAGTACAGGCGCAGTCGAATCTTCCGGAATCACATTGCTCGCGCTTAAACCCGCTCTAAACCTTTGAGTAATTCGACGACATTGGGTTCCCTCCGACGCTGTCTGACAACTCTTTAAGATCCTTGGCACGATGTCGATAGACATTGTCCCTGATGACGCCTCACAAGGTAACCTGGCTCTAGTAGGGTGGTCTTTGCTGCGGAACTTACCACCTGGTGGATCCAAGCACCAGAGGAGTTCGAAGAGGCTGGGGTACCCCCTATTTAGGAAGGGCGAGACTACGGTCACAAATTCCAAATGGCTTCCCTCGATTCATGACGCCAGAATGCCTGGCTGTGCCAATTTGTCGCCTTGCGTCGTTCTGTCAATCTTTACTCGTGTCGTGTTGTGATAAATGACAAACCCTGCACAACGTAGGGCTCACACAAGGGAATCTAGAGTATCCGATACAGGGAGCTTTAGCTTCCGTCCCTTATAGCCTGCCATATTCTTGCGGTAGCACGAGCCTCAGATCTTCTCACTCCGGAAATGGGAGCTTCGACGGTCAAGGGCTAAGACGTCTTCGGGAGAAATACCTAGGCGATGACCCTGAGTGGTTTTCCGCGTATAACTCATCCTGGTTGCAAATGATTACCGTTATAGCCTGGGGATATGCCTCAATTCCGAACCCAGGAGCATCACTCGAGCAATAGCGGTAAAGGAGGCTATTAGCAAAATTGTCACGATAAGCGCCGTTGTAGTGAAATTAAGATACATACATCGTTTAGCACATCACTCTCACGGCGTCTAGAAGCTGATCTTCATATGCTGACTCAGAAGGCTCGGATAATAGAGGACGAAGGTAGTTTACTCATCGCTGCCCCGACTATTACGTGTGCATGATAAAGTCTGACCCTGACGTTCCCAAGCCGAGGCAGAGGGGTTTTACGCTGAATGTCCGCTCTCTGTCGGATGATTTCGGAAGCTG'\n",
    "dna.split()"
   ]
  }
 ],
 "metadata": {
  "kernelspec": {
   "display_name": "Python 3 (ipykernel)",
   "language": "python",
   "name": "python3"
  },
  "language_info": {
   "codemirror_mode": {
    "name": "ipython",
    "version": 3
   },
   "file_extension": ".py",
   "mimetype": "text/x-python",
   "name": "python",
   "nbconvert_exporter": "python",
   "pygments_lexer": "ipython3",
   "version": "3.10.8"
  },
  "toc": {
   "base_numbering": 1,
   "nav_menu": {},
   "number_sections": true,
   "sideBar": true,
   "skip_h1_title": false,
   "title_cell": "Table of Contents",
   "title_sidebar": "Contents",
   "toc_cell": false,
   "toc_position": {},
   "toc_section_display": true,
   "toc_window_display": false
  },
  "vscode": {
   "interpreter": {
    "hash": "31f2aee4e71d21fbe5cf8b01ff0e069b9275f58929596ceb00d14d90e3e16cd6"
   }
  }
 },
 "nbformat": 4,
 "nbformat_minor": 5
}
