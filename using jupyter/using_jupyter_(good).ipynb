{
 "cells": [
  {
   "cell_type": "markdown",
   "id": "123456",
   "metadata": {},
   "source": [
    "<div style=\"text-align:left;font-size:2em\"><span style=\"font-weight:bolder;font-size:1.25em\">SP2273 | Learning Portfolio</span><br><br><span style=\"font-weight:bold;color:darkred\">Using Jupyter (Good)</span></div>"
   ]
  },
  {
   "cell_type": "markdown",
   "id": "3042a274",
   "metadata": {},
   "source": [
    "## 1 Some tips and tricks"
   ]
  },
  {
   "cell_type": "markdown",
   "id": "e5871301",
   "metadata": {},
   "source": [
    "### 1.1 Keyboard Shortcuts"
   ]
  },
  {
   "cell_type": "markdown",
   "id": "9d01588e",
   "metadata": {},
   "source": [
    "hello world"
   ]
  },
  {
   "cell_type": "markdown",
   "id": "3d3e48e3",
   "metadata": {},
   "source": [
    "hello\n",
    "\n",
    "world"
   ]
  },
  {
   "cell_type": "markdown",
   "id": "fe0653ad",
   "metadata": {},
   "source": [
    "### 1.2 Shell commands"
   ]
  },
  {
   "cell_type": "code",
   "execution_count": 1,
   "id": "c5b5bd24",
   "metadata": {},
   "outputs": [
    {
     "name": "stdout",
     "output_type": "stream",
     "text": [
      " Volume in drive C is Acer\n",
      " Volume Serial Number is 30F9-7799\n",
      "\n",
      " Directory of C:\\Users\\mhsm6\\OneDrive\\Documents\\GitHub\\learning-portfolio-keriperip\\using jupyter\n",
      "\n",
      "13/01/2023  08:22 am    <DIR>          .\n",
      "13/01/2023  08:22 am    <DIR>          ..\n",
      "13/01/2023  08:10 am    <DIR>          .ipynb_checkpoints\n",
      "12/01/2023  03:31 pm            21,725 2273_wiki_graph_1.png\n",
      "13/01/2023  08:22 am             3,309 using_jupyter_(good).ipynb\n",
      "12/01/2023  04:20 pm            10,912 using_jupyter_(need).ipynb\n",
      "               3 File(s)         35,946 bytes\n",
      "               3 Dir(s)  376,434,413,568 bytes free\n"
     ]
    }
   ],
   "source": [
    "!dir"
   ]
  },
  {
   "cell_type": "markdown",
   "id": "7ad51b7b",
   "metadata": {},
   "source": [
    "## 2 Jupyter Extensions"
   ]
  },
  {
   "cell_type": "markdown",
   "id": "cfc71b48",
   "metadata": {},
   "source": [
    "### 2.1 Installing the extensions"
   ]
  },
  {
   "cell_type": "markdown",
   "id": "8a029f4a",
   "metadata": {},
   "source": [
    "installed extensions via anaconda prompt as jupyter was not responding\n"
   ]
  },
  {
   "cell_type": "markdown",
   "id": "a57430a9",
   "metadata": {},
   "source": [
    "### 2.2 Enabling the extensions"
   ]
  },
  {
   "cell_type": "markdown",
   "id": "df6d934b",
   "metadata": {},
   "source": [
    "activated autopep8 via nbextensions tab as jupyter was not responding"
   ]
  },
  {
   "cell_type": "markdown",
   "id": "0a4e02ad",
   "metadata": {},
   "source": [
    "## 3 Shell Magic"
   ]
  },
  {
   "cell_type": "markdown",
   "id": "fa55c619",
   "metadata": {},
   "source": [
    "## 4 The Kernel"
   ]
  },
  {
   "cell_type": "markdown",
   "id": "88aa8e44",
   "metadata": {},
   "source": [
    "## Exercise 1 :  A new shortcut"
   ]
  },
  {
   "cell_type": "markdown",
   "id": "ea6a6ae8",
   "metadata": {},
   "source": [
    "escape H\n",
    "edit shortcuts\n",
    "Added restart kernel and run all cells command (9,9)\n",
    "Added clear cell output as (C,C)"
   ]
  }
 ],
 "metadata": {
  "kernelspec": {
   "display_name": "Python 3 (ipykernel)",
   "language": "python",
   "name": "python3"
  },
  "language_info": {
   "codemirror_mode": {
    "name": "ipython",
    "version": 3
   },
   "file_extension": ".py",
   "mimetype": "text/x-python",
   "name": "python",
   "nbconvert_exporter": "python",
   "pygments_lexer": "ipython3",
   "version": "3.10.8"
  },
  "toc": {
   "base_numbering": 1,
   "nav_menu": {},
   "number_sections": true,
   "sideBar": true,
   "skip_h1_title": false,
   "title_cell": "Table of Contents",
   "title_sidebar": "Contents",
   "toc_cell": false,
   "toc_position": {},
   "toc_section_display": true,
   "toc_window_display": false
  },
  "vscode": {
   "interpreter": {
    "hash": "31f2aee4e71d21fbe5cf8b01ff0e069b9275f58929596ceb00d14d90e3e16cd6"
   }
  }
 },
 "nbformat": 4,
 "nbformat_minor": 5
}
