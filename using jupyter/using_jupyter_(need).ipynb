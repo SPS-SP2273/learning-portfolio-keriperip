{
 "cells": [
  {
   "cell_type": "markdown",
   "id": "123456",
   "metadata": {},
   "source": [
    "<div style=\"text-align:left;font-size:2em\"><span style=\"font-weight:bolder;font-size:1.25em\">SP2273 | Learning Portfolio</span><br><br><span style=\"font-weight:bold;color:darkred\">Using Jupyter (Need)</span></div>"
   ]
  },
  {
   "cell_type": "markdown",
   "id": "1b0b88f3",
   "metadata": {},
   "source": [
    "## 1 Getting started with Jupyter"
   ]
  },
  {
   "cell_type": "markdown",
   "id": "9301e438",
   "metadata": {},
   "source": [
    "### 1.1 Its all about running cells"
   ]
  },
  {
   "cell_type": "code",
   "execution_count": 1,
   "id": "80fa0756",
   "metadata": {},
   "outputs": [
    {
     "name": "stdout",
     "output_type": "stream",
     "text": [
      "Hello World!\n"
     ]
    }
   ],
   "source": [
    "print('Hello World!')"
   ]
  },
  {
   "cell_type": "markdown",
   "id": "d4006cc9",
   "metadata": {},
   "source": [
    "### 1.2 A traditional start"
   ]
  },
  {
   "cell_type": "code",
   "execution_count": 2,
   "id": "572772e2",
   "metadata": {},
   "outputs": [
    {
     "name": "stdout",
     "output_type": "stream",
     "text": [
      "6\n"
     ]
    }
   ],
   "source": [
    "a = 2 \n",
    "b = 4\n",
    "c = a + b \n",
    "print (c)\n"
   ]
  },
  {
   "cell_type": "markdown",
   "id": "3ca553cf",
   "metadata": {},
   "source": [
    "## 2 All about Markdown"
   ]
  },
  {
   "cell_type": "markdown",
   "id": "2e6b312b",
   "metadata": {},
   "source": [
    "### 2.1 Rendering Markdown cells"
   ]
  },
  {
   "cell_type": "markdown",
   "id": "a2789e02",
   "metadata": {},
   "source": [
    "The ships hung in the sky in much the same way that bricks don’t.\n"
   ]
  },
  {
   "cell_type": "markdown",
   "id": "9c746886",
   "metadata": {},
   "source": [
    "### 2.2 Some basic syntax"
   ]
  },
  {
   "cell_type": "markdown",
   "id": "7e2381b3",
   "metadata": {},
   "source": [
    "The ships *hung in the sky* in much the same way that **bricks don’t**.<sup>1</sup><sub>QUOTE</sub>"
   ]
  },
  {
   "cell_type": "markdown",
   "id": "8aff47ef",
   "metadata": {},
   "source": [
    "### 2.3 Headings"
   ]
  },
  {
   "cell_type": "markdown",
   "id": "d721e63d",
   "metadata": {},
   "source": [
    "\n",
    "# The ships hung in the sky in much the same way that bricks don’t.\n",
    "## The ships hung in the sky in much the same way that bricks don’t.\n",
    "### The ships hung in the sky in much the same way that bricks don’t.\n",
    "#### The ships hung in the sky in much the same way that bricks don’t.\n"
   ]
  },
  {
   "cell_type": "markdown",
   "id": "5e9c8a9b",
   "metadata": {},
   "source": [
    "### 2.4 Displaying Code"
   ]
  },
  {
   "cell_type": "code",
   "execution_count": 6,
   "id": "ab77de8d",
   "metadata": {},
   "outputs": [
    {
     "name": "stdout",
     "output_type": "stream",
     "text": [
      "print('hello world')\n"
     ]
    }
   ],
   "source": [
    "print (\"print('hello world')\")\n"
   ]
  },
  {
   "cell_type": "code",
   "execution_count": 7,
   "id": "b4995ab1",
   "metadata": {},
   "outputs": [
    {
     "name": "stdout",
     "output_type": "stream",
     "text": [
      "print(\"hello world\")\n"
     ]
    }
   ],
   "source": [
    "print ('print(\"hello world\")')"
   ]
  },
  {
   "cell_type": "markdown",
   "id": "7044aad0",
   "metadata": {},
   "source": [
    "hello \n",
    "``python\n",
    "print ('hello world')\n",
    "``\n",
    "world "
   ]
  },
  {
   "cell_type": "markdown",
   "id": "3d0a7cf0",
   "metadata": {},
   "source": [
    "hello\n",
    "```python\n",
    "print ('hello world')\n",
    "```\n",
    "world "
   ]
  },
  {
   "cell_type": "markdown",
   "id": "5b6d058e",
   "metadata": {},
   "source": [
    "### 2.5 Links"
   ]
  },
  {
   "cell_type": "markdown",
   "id": "95acfc2c",
   "metadata": {},
   "source": [
    "[SP2273 tutorial slot indication](https://tinyurl.com/sp2273)\n"
   ]
  },
  {
   "cell_type": "markdown",
   "id": "6ff9d05d",
   "metadata": {},
   "source": [
    "### 2.6 Images"
   ]
  },
  {
   "cell_type": "markdown",
   "id": "439f21d9",
   "metadata": {},
   "source": [
    "\n",
    "![](C:\\\\Users\\\\mhsm6\\\\Downloads\\\\NTU_logo.png)\n"
   ]
  },
  {
   "cell_type": "markdown",
   "id": "e28601ae",
   "metadata": {},
   "source": [
    "![](NTU_logo.png)"
   ]
  },
  {
   "cell_type": "markdown",
   "id": "b7ff520e",
   "metadata": {},
   "source": [
    "### 2.7 Tables"
   ]
  },
  {
   "cell_type": "markdown",
   "id": "a228fa70",
   "metadata": {},
   "source": [
    "| A    |  B   |    C |\n",
    "| :--- | :--: | ---: |\n",
    "| a1   |  b1  |   c1 |\n",
    "| a2   |  b2  |   c2 |\n",
    "| a3   |  b3  |   c3 |"
   ]
  },
  {
   "cell_type": "markdown",
   "id": "89409581",
   "metadata": {},
   "source": [
    "| A    |  B   |    C |\n",
    "| ---  | --   | ---  |\n",
    "| a1   |  b1  |   c1 |\n",
    "| a2   |  b2  |   c2 |\n",
    "| a3   |  b3  |   c3 |"
   ]
  },
  {
   "cell_type": "markdown",
   "id": "4566eec0",
   "metadata": {},
   "source": [
    "| A    |  BBBBBBBBBBBBBB   |    C |\n",
    "| :--- | :--: | ---: |\n",
    "| a1   |  b1  |   c1 |\n",
    "| a2   |  b2  |   c2 |\n",
    "| a3   |  b3  |   c3 |"
   ]
  },
  {
   "cell_type": "markdown",
   "id": "5f354aee",
   "metadata": {},
   "source": [
    "| A    |  BBBBBBBBBBBBBB   |    C |\n",
    "| :--- | :-- | ---: |\n",
    "| a1   |  b1  |   c1 |\n",
    "| a2   |  b2  |   c2 |\n",
    "| a3   |  b3  |   c3 |"
   ]
  },
  {
   "cell_type": "markdown",
   "id": "eb011667",
   "metadata": {},
   "source": [
    "| A    |  BBBBBBBBBBBBBB  |    C |\n",
    "| --- | -- | --- |\n",
    "| a1   |  b1  |   c1 |\n",
    "| a2   |  b2  |   c2 |\n",
    "| a3   |  b3  |   c3 |"
   ]
  },
  {
   "cell_type": "markdown",
   "id": "3dd817f8",
   "metadata": {},
   "source": [
    "| A    |  BBBBBBBBBBBBBB   |    C |\n",
    "| :--- | :-- | :--- |\n",
    "| a1   |  b1  |   c1 |\n",
    "| a2   |  b2  |   c2 |\n",
    "| a3   |  b3  |   c3 |"
   ]
  },
  {
   "cell_type": "markdown",
   "id": "8f45b10e",
   "metadata": {},
   "source": [
    "| A    |      B      |    C |\n",
    "| :--- | :--------:  | ---: |\n",
    "| a1   |      b122322222221    |   c1 |\n",
    "| a2   |      b2     |   c2 |\n",
    "| a3   |      b3     |   c3 |"
   ]
  },
  {
   "cell_type": "markdown",
   "id": "b8e036f2",
   "metadata": {},
   "source": [
    "| A    |  B   |    C |\n",
    "| :--- | :--: | ---: |\n",
    "| a1   |  b1  |   c1 |\n",
    "| a2   |  b2  |   c2 |\n",
    "| a3   |  b3  |   c3 |"
   ]
  },
  {
   "cell_type": "markdown",
   "id": "3c4fb671",
   "metadata": {},
   "source": [
    "### 2.8 Lists"
   ]
  },
  {
   "cell_type": "markdown",
   "id": "befd959d",
   "metadata": {},
   "source": [
    "1. a \n",
    "    1. b\n",
    "    1. c\n",
    "1. b\n",
    "    1. a\n",
    "    1. c\n",
    "1. c\n",
    "    1. a\n",
    "    1. b\n",
    "    \n",
    "\n"
   ]
  },
  {
   "cell_type": "markdown",
   "id": "e6b46bef",
   "metadata": {},
   "source": [
    "1. a \n",
    "    - b\n",
    "    - c\n",
    "1. b\n",
    "    - a\n",
    "    - c\n",
    "1. c\n",
    "    - a\n",
    "    - b"
   ]
  },
  {
   "cell_type": "markdown",
   "id": "71cd4543",
   "metadata": {},
   "source": [
    "### 2.9 Equations"
   ]
  },
  {
   "cell_type": "markdown",
   "id": "6121da7b",
   "metadata": {},
   "source": [
    "$\\dfrac{y}{x}_{a}$\n",
    "\n",
    "\n"
   ]
  },
  {
   "cell_type": "markdown",
   "id": "7c6c1f7f",
   "metadata": {},
   "source": [
    "## Exercise 1 :  Put it in Markdown"
   ]
  },
  {
   "cell_type": "markdown",
   "id": "11a94021",
   "metadata": {},
   "source": [
    "\n",
    "**Quadratic equations**\n",
    "![](https://en.wikipedia.org/wiki/Quadratic_equation)\n",
    "\n",
    "\n",
    "**Introduction**\n",
    "\n",
    "The general form of a quadratic equation is:\n",
    "\n",
    "\t_$x^(2)$ + bx + c = 0_\n",
    "\n",
    "\n",
    "\n"
   ]
  },
  {
   "cell_type": "markdown",
   "id": "f05adbd4",
   "metadata": {},
   "source": [
    "## Exercise 2 :  In your own words"
   ]
  },
  {
   "cell_type": "code",
   "execution_count": null,
   "id": "9f039749",
   "metadata": {},
   "outputs": [],
   "source": [
    "\n",
    "\n",
    "\n",
    "\n",
    "\n"
   ]
  }
 ],
 "metadata": {
  "kernelspec": {
   "display_name": "Python 3 (ipykernel)",
   "language": "python",
   "name": "python3"
  },
  "language_info": {
   "codemirror_mode": {
    "name": "ipython",
    "version": 3
   },
   "file_extension": ".py",
   "mimetype": "text/x-python",
   "name": "python",
   "nbconvert_exporter": "python",
   "pygments_lexer": "ipython3",
   "version": "3.10.8"
  },
  "toc": {
   "base_numbering": 1,
   "nav_menu": {},
   "number_sections": true,
   "sideBar": true,
   "skip_h1_title": false,
   "title_cell": "Table of Contents",
   "title_sidebar": "Contents",
   "toc_cell": false,
   "toc_position": {},
   "toc_section_display": true,
   "toc_window_display": false
  },
  "vscode": {
   "interpreter": {
    "hash": "31f2aee4e71d21fbe5cf8b01ff0e069b9275f58929596ceb00d14d90e3e16cd6"
   }
  }
 },
 "nbformat": 4,
 "nbformat_minor": 5
}
