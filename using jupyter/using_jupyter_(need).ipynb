{
 "cells": [
  {
   "cell_type": "markdown",
   "id": "123456",
   "metadata": {},
   "source": [
    "<div style=\"text-align:left;font-size:2em\"><span style=\"font-weight:bolder;font-size:1.25em\">SP2273 | Learning Portfolio</span><br><br><span style=\"font-weight:bold;color:darkred\">Using Jupyter (Need)</span></div>"
   ]
  },
  {
   "cell_type": "markdown",
   "id": "1b0b88f3",
   "metadata": {},
   "source": [
    "## 1 Getting started with Jupyter"
   ]
  },
  {
   "cell_type": "markdown",
   "id": "9301e438",
   "metadata": {},
   "source": [
    "### 1.1 Its all about running cells"
   ]
  },
  {
   "cell_type": "code",
   "execution_count": 1,
   "id": "80fa0756",
   "metadata": {},
   "outputs": [
    {
     "name": "stdout",
     "output_type": "stream",
     "text": [
      "Hello World!\n"
     ]
    }
   ],
   "source": [
    "print('Hello World!')"
   ]
  },
  {
   "cell_type": "markdown",
   "id": "d4006cc9",
   "metadata": {},
   "source": [
    "### 1.2 A traditional start"
   ]
  },
  {
   "cell_type": "code",
   "execution_count": 2,
   "id": "572772e2",
   "metadata": {},
   "outputs": [
    {
     "name": "stdout",
     "output_type": "stream",
     "text": [
      "6\n"
     ]
    }
   ],
   "source": [
    "a = 2 \n",
    "b = 4\n",
    "c = a + b \n",
    "print (c)\n"
   ]
  },
  {
   "cell_type": "markdown",
   "id": "3ca553cf",
   "metadata": {},
   "source": [
    "## 2 All about Markdown"
   ]
  },
  {
   "cell_type": "markdown",
   "id": "2e6b312b",
   "metadata": {},
   "source": [
    "### 2.1 Rendering Markdown cells"
   ]
  },
  {
   "cell_type": "markdown",
   "id": "a3d651eb",
   "metadata": {},
   "source": [
    "The ships hung in the sky in much the same way that bricks don’t.\n"
   ]
  },
  {
   "cell_type": "markdown",
   "id": "9c746886",
   "metadata": {},
   "source": [
    "### 2.2 Some basic syntax"
   ]
  },
  {
   "cell_type": "markdown",
   "id": "410b9af9",
   "metadata": {},
   "source": [
    "The ships *hung in the sky* in much the same way that **bricks don’t**.<sup>1</sup><sub>QUOTE</sub>"
   ]
  },
  {
   "cell_type": "markdown",
   "id": "8aff47ef",
   "metadata": {},
   "source": [
    "### 2.3 Headings"
   ]
  },
  {
   "cell_type": "markdown",
   "id": "867d2552",
   "metadata": {},
   "source": [
    "\n",
    "# The ships hung in the sky in much the same way that bricks don’t.\n",
    "## The ships hung in the sky in much the same way that bricks don’t.\n",
    "### The ships hung in the sky in much the same way that bricks don’t.\n",
    "#### The ships hung in the sky in much the same way that bricks don’t.\n"
   ]
  },
  {
   "cell_type": "markdown",
   "id": "5e9c8a9b",
   "metadata": {},
   "source": [
    "### 2.4 Displaying Code"
   ]
  },
  {
   "cell_type": "code",
   "execution_count": 6,
   "id": "ab77de8d",
   "metadata": {},
   "outputs": [
    {
     "name": "stdout",
     "output_type": "stream",
     "text": [
      "print('hello world')\n"
     ]
    }
   ],
   "source": [
    "print (\"print('hello world')\")\n"
   ]
  },
  {
   "cell_type": "code",
   "execution_count": 7,
   "id": "8ca78640",
   "metadata": {},
   "outputs": [
    {
     "name": "stdout",
     "output_type": "stream",
     "text": [
      "print(\"hello world\")\n"
     ]
    }
   ],
   "source": [
    "print ('print(\"hello world\")')"
   ]
  },
  {
   "cell_type": "markdown",
   "id": "308f3664",
   "metadata": {},
   "source": [
    "hello \n",
    "``python\n",
    "print ('hello world')\n",
    "``\n",
    "world "
   ]
  },
  {
   "cell_type": "markdown",
   "id": "23d66863",
   "metadata": {},
   "source": [
    "hello\n",
    "```python\n",
    "print ('hello world')\n",
    "```\n",
    "world "
   ]
  },
  {
   "cell_type": "markdown",
   "id": "5b6d058e",
   "metadata": {},
   "source": [
    "### 2.5 Links"
   ]
  },
  {
   "cell_type": "markdown",
   "id": "ec9a4779",
   "metadata": {},
   "source": [
    "[SP2273 tutorial slot indication](https://tinyurl.com/sp2273)\n"
   ]
  },
  {
   "cell_type": "markdown",
   "id": "6ff9d05d",
   "metadata": {},
   "source": [
    "### 2.6 Images"
   ]
  },
  {
   "cell_type": "markdown",
   "id": "d721d07c",
   "metadata": {},
   "source": [
    "\n",
    "![](C:\\\\Users\\\\mhsm6\\\\Downloads\\\\NTU_logo.png)\n"
   ]
  },
  {
   "cell_type": "markdown",
   "id": "81cd6363",
   "metadata": {},
   "source": [
    "![](NTU_logo.png)"
   ]
  },
  {
   "cell_type": "markdown",
   "id": "b7ff520e",
   "metadata": {},
   "source": [
    "### 2.7 Tables"
   ]
  },
  {
   "cell_type": "markdown",
   "id": "911dec7b",
   "metadata": {},
   "source": [
    "| A    |  B   |    C |\n",
    "| :--- | :--: | ---: |\n",
    "| a1   |  b1  |   c1 |\n",
    "| a2   |  b2  |   c2 |\n",
    "| a3   |  b3  |   c3 |"
   ]
  },
  {
   "cell_type": "markdown",
   "id": "a801df69",
   "metadata": {},
   "source": [
    "| A    |  B   |    C |\n",
    "| ---  | --   | ---  |\n",
    "| a1   |  b1  |   c1 |\n",
    "| a2   |  b2  |   c2 |\n",
    "| a3   |  b3  |   c3 |"
   ]
  },
  {
   "cell_type": "markdown",
   "id": "16d389cd",
   "metadata": {},
   "source": [
    "| A    |  BBBBBBBBBBBBBB   |    C |\n",
    "| :--- | :--: | ---: |\n",
    "| a1   |  b1  |   c1 |\n",
    "| a2   |  b2  |   c2 |\n",
    "| a3   |  b3  |   c3 |"
   ]
  },
  {
   "cell_type": "markdown",
   "id": "13d829db",
   "metadata": {},
   "source": [
    "| A    |  BBBBBBBBBBBBBB   |    C |\n",
    "| :--- | :-- | ---: |\n",
    "| a1   |  b1  |   c1 |\n",
    "| a2   |  b2  |   c2 |\n",
    "| a3   |  b3  |   c3 |"
   ]
  },
  {
   "cell_type": "markdown",
   "id": "e4ecdc2a",
   "metadata": {},
   "source": [
    "| A    |  BBBBBBBBBBBBBB  |    C |\n",
    "| --- | -- | --- |\n",
    "| a1   |  b1  |   c1 |\n",
    "| a2   |  b2  |   c2 |\n",
    "| a3   |  b3  |   c3 |"
   ]
  },
  {
   "cell_type": "markdown",
   "id": "33840783",
   "metadata": {},
   "source": [
    "| A    |  BBBBBBBBBBBBBB   |    C |\n",
    "| :--- | :-- | :--- |\n",
    "| a1   |  b1  |   c1 |\n",
    "| a2   |  b2  |   c2 |\n",
    "| a3   |  b3  |   c3 |"
   ]
  },
  {
   "cell_type": "markdown",
   "id": "4d5eef30",
   "metadata": {},
   "source": [
    "| A    |      B      |    C |\n",
    "| :--- | :--------:  | ---: |\n",
    "| a1   |      b122322222221    |   c1 |\n",
    "| a2   |      b2     |   c2 |\n",
    "| a3   |      b3     |   c3 |"
   ]
  },
  {
   "cell_type": "markdown",
   "id": "5250464d",
   "metadata": {},
   "source": [
    "| A    |  B   |    C |\n",
    "| :--- | :--: | ---: |\n",
    "| a1   |  b1  |   c1 |\n",
    "| a2   |  b2  |   c2 |\n",
    "| a3   |  b3  |   c3 |"
   ]
  },
  {
   "cell_type": "markdown",
   "id": "3c4fb671",
   "metadata": {},
   "source": [
    "### 2.8 Lists"
   ]
  },
  {
   "cell_type": "markdown",
   "id": "f794802f",
   "metadata": {},
   "source": [
    "1. a \n",
    "    1. b\n",
    "    1. c\n",
    "1. b\n",
    "    1. a\n",
    "    1. c\n",
    "1. c\n",
    "    1. a\n",
    "    1. b\n",
    "    \n",
    "\n"
   ]
  },
  {
   "cell_type": "markdown",
   "id": "efbbff52",
   "metadata": {},
   "source": [
    "1. a \n",
    "    - b\n",
    "    - c\n",
    "1. b\n",
    "    - a\n",
    "    - c\n",
    "1. c\n",
    "    - a\n",
    "    - b"
   ]
  },
  {
   "cell_type": "markdown",
   "id": "71cd4543",
   "metadata": {},
   "source": [
    "### 2.9 Equations"
   ]
  },
  {
   "cell_type": "markdown",
   "id": "7ea16284",
   "metadata": {},
   "source": [
    "$\\dfrac{y}{x}_{a}$\n",
    "\n",
    "\n"
   ]
  },
  {
   "cell_type": "markdown",
   "id": "7c6c1f7f",
   "metadata": {},
   "source": [
    "## Exercise 1 :  Put it in Markdown"
   ]
  },
  {
   "cell_type": "markdown",
   "id": "11ff02f5",
   "metadata": {},
   "source": [
    "\n",
    "**Quadratic equations**\n",
    "\n",
    "![](2273_wiki_graph_1.png)\n",
    "\n",
    "_(Image from the [Wikipedia page on Quadratic equations](https://en.wikipedia.org/wiki/Quadratic_equation))_\n",
    "\n",
    "**Introduction**\n",
    "\n",
    "The general form of a quadratic equation is:\n",
    "\n",
    "$ax^{2} + bx + c = 0$\n",
    "\n",
    "**Solutions** Provided $a \\ne 0$, we can use an elementary algebraic method\n",
    "called [completing the square](https://en.wikipedia.org/wiki/Completing_the_square) to show that a quadratic equation has the following solution:\n",
    "\n",
    "$$\n",
    "x = \\dfrac{-b \\pm \\sqrt{b^2-4ac}}{2a}\n",
    "$$\n",
    "\n",
    "**Discriminant**\n",
    "\n",
    "The quantity $Δ = b^{2}-4ac$ is called the **discriminant** of the equation and decides the nature of its solutions. The table below shows the various possibilities.\n",
    "\n",
    "| **Discriminant**  |  **Roots**   |\n",
    "| :--- | :--- |\n",
    "| $Δ = b^{2} -4ac =0$| A single solution of $\\dfrac{-b}{(2a)}$ |  \n",
    "| $Δ = b^{2} -4ac \\gt 0$|Two distinct solutions  |  \n",
    "| $Δ = b^{2} -4ac  \\lt 0$ |No real solutions; both are complex. |  \n",
    "\n",
    "\n"
   ]
  },
  {
   "cell_type": "markdown",
   "id": "f05adbd4",
   "metadata": {},
   "source": [
    "## Exercise 2 :  In your own words"
   ]
  },
  {
   "cell_type": "markdown",
   "id": "46beaccf",
   "metadata": {},
   "source": [
    "1. A repository contains a log of all the files and actions made by a user.\n",
    "1. Git keep tracks of **changes** in the files in our repository.\n",
    "1. A commit is a change made within the file which also indicates the time and person making this change.\n",
    "1. A push uploads the changes from a local server on a computer onto a cloud based server online.\n",
    "1. Github is an online server which others can access whereas access via Github desktop is localised to my computer. \n",
    "1. Pull. Pushing is sharing a local file to an online server whereas pulling is withdrawing the file and localising it to a device.\n",
    "\n",
    "\n",
    "\n",
    "\n",
    "\n"
   ]
  }
 ],
 "metadata": {
  "kernelspec": {
   "display_name": "Python 3 (ipykernel)",
   "language": "python",
   "name": "python3"
  },
  "language_info": {
   "codemirror_mode": {
    "name": "ipython",
    "version": 3
   },
   "file_extension": ".py",
   "mimetype": "text/x-python",
   "name": "python",
   "nbconvert_exporter": "python",
   "pygments_lexer": "ipython3",
   "version": "3.10.8"
  },
  "toc": {
   "base_numbering": 1,
   "nav_menu": {},
   "number_sections": true,
   "sideBar": true,
   "skip_h1_title": false,
   "title_cell": "Table of Contents",
   "title_sidebar": "Contents",
   "toc_cell": false,
   "toc_position": {},
   "toc_section_display": true,
   "toc_window_display": false
  },
  "vscode": {
   "interpreter": {
    "hash": "31f2aee4e71d21fbe5cf8b01ff0e069b9275f58929596ceb00d14d90e3e16cd6"
   }
  }
 },
 "nbformat": 4,
 "nbformat_minor": 5
}
