{
 "cells": [
  {
   "cell_type": "markdown",
   "id": "123456",
   "metadata": {},
   "source": [
    "<div style=\"text-align:left;font-size:2em\"><span style=\"font-weight:bolder;font-size:1.25em\">SP2273 | Learning Portfolio</span><br><br><span style=\"font-weight:bold;color:darkred\">Basics (Good)</span></div>"
   ]
  },
  {
   "cell_type": "markdown",
   "id": "45965693",
   "metadata": {},
   "source": [
    "## 1 More Python Basics"
   ]
  },
  {
   "cell_type": "markdown",
   "id": "476f188d",
   "metadata": {},
   "source": [
    "### 1.1 Computers read = from Right to Left!"
   ]
  },
  {
   "cell_type": "code",
   "execution_count": 1,
   "id": "4bc416a2",
   "metadata": {},
   "outputs": [
    {
     "name": "stdout",
     "output_type": "stream",
     "text": [
      "42\n"
     ]
    }
   ],
   "source": [
    "y = 40\n",
    "y = y + 2\n",
    "print(y)\n"
   ]
  },
  {
   "cell_type": "markdown",
   "id": "f61f1d0c",
   "metadata": {},
   "source": [
    "### 1.2 Shorter and cleaner"
   ]
  },
  {
   "cell_type": "code",
   "execution_count": 2,
   "id": "a3f2e538",
   "metadata": {},
   "outputs": [
    {
     "data": {
      "text/plain": [
       "42"
      ]
     },
     "execution_count": 2,
     "metadata": {},
     "output_type": "execute_result"
    }
   ],
   "source": [
    "y = 40\n",
    "y += 2    # Same as y = y + 2\n",
    "y"
   ]
  },
  {
   "cell_type": "code",
   "execution_count": 5,
   "id": "30ca679d",
   "metadata": {},
   "outputs": [
    {
     "data": {
      "text/plain": [
       "35"
      ]
     },
     "execution_count": 5,
     "metadata": {},
     "output_type": "execute_result"
    }
   ],
   "source": [
    "x = 40\n",
    "x -= 5\n",
    "x"
   ]
  },
  {
   "cell_type": "code",
   "execution_count": 7,
   "id": "2dfc4684",
   "metadata": {},
   "outputs": [
    {
     "data": {
      "text/plain": [
       "5.0"
      ]
     },
     "execution_count": 7,
     "metadata": {},
     "output_type": "execute_result"
    }
   ],
   "source": [
    "z = 50\n",
    "z /= 10\n",
    "z"
   ]
  },
  {
   "cell_type": "markdown",
   "id": "f1c32783",
   "metadata": {},
   "source": [
    "### 1.3 Asking questions"
   ]
  },
  {
   "cell_type": "code",
   "execution_count": 15,
   "id": "33f6ef82",
   "metadata": {},
   "outputs": [
    {
     "name": "stdout",
     "output_type": "stream",
     "text": [
      "no\n"
     ]
    }
   ],
   "source": [
    "#testing to see if its the count which is being compared here \n",
    "fruits = [\"apple\", \"apple\", \"banana\", \"pineapple\", \"jackfruit\"]\n",
    "vegetables = [\"celery\", \"potato\", \"broccoli\", \"kale\"]\n",
    "\n",
    "#as it turns out no it does not lol\n",
    "#now comparing apples and kale individually \n",
    "#within letters a is the smallest and z is the biggest \n",
    "\n",
    "if 'apples' > 'kale':\n",
    "    print (\"yes\")\n",
    "else:\n",
    "    print (\"no\")"
   ]
  },
  {
   "cell_type": "code",
   "execution_count": 30,
   "id": "cdeff83d",
   "metadata": {},
   "outputs": [
    {
     "name": "stdout",
     "output_type": "stream",
     "text": [
      "2\n",
      "noooooo\n"
     ]
    }
   ],
   "source": [
    "fruits = [\"apple\", \"apple\", \"banana\", \"pineapple\", \"jackfruit\"]\n",
    "vegetables = [\"celery\", \"potato\", \"broccoli\", \"kale\", \"kale\", \"kale\"]\n",
    "print(fruits.count(\"apple\")) \n",
    "\n",
    "if fruits.count(\"apple\") > vegetables.count(\"kale\"):\n",
    "    print (\"yes\")\n",
    "else:\n",
    "    print (\"noooooo\")\n",
    "    \n",
    "#rmbr to use quotation marks when referencing text\n",
    "#make sure you reference the right list ie dont mix up the fruits and vegetables list\n",
    "#you can just .count(\"wtv\") to check the total number"
   ]
  },
  {
   "cell_type": "markdown",
   "id": "0851036e",
   "metadata": {},
   "source": [
    "### 1.4 There is more to if"
   ]
  },
  {
   "cell_type": "code",
   "execution_count": 31,
   "id": "aaa420f9",
   "metadata": {},
   "outputs": [
    {
     "name": "stdout",
     "output_type": "stream",
     "text": [
      "Hello Hero | Batman!\n"
     ]
    }
   ],
   "source": [
    "name = 'Batman'\n",
    "\n",
    "if name == 'Batman':\n",
    "    print('Hello Hero | Batman!')\n",
    "elif name == 'Robin':\n",
    "    print('Hello Sidekick | Robin!')\n",
    "else:\n",
    "    print('Hello World!')"
   ]
  },
  {
   "cell_type": "markdown",
   "id": "3691bd3a",
   "metadata": {},
   "source": [
    "### 1.5 Python stores information in different formats or types."
   ]
  },
  {
   "cell_type": "code",
   "execution_count": 35,
   "id": "191690bf",
   "metadata": {},
   "outputs": [
    {
     "name": "stdout",
     "output_type": "stream",
     "text": [
      "(1.234+0j) <class 'complex'>\n"
     ]
    }
   ],
   "source": [
    "x = complex(1.234)\n",
    "print(x, type(x))"
   ]
  },
  {
   "cell_type": "code",
   "execution_count": 33,
   "id": "e5bd16d9",
   "metadata": {},
   "outputs": [
    {
     "ename": "NameError",
     "evalue": "name 'abcd1234' is not defined",
     "output_type": "error",
     "traceback": [
      "\u001b[1;31m---------------------------------------------------------------------------\u001b[0m",
      "\u001b[1;31mNameError\u001b[0m                                 Traceback (most recent call last)",
      "Cell \u001b[1;32mIn[33], line 1\u001b[0m\n\u001b[1;32m----> 1\u001b[0m x \u001b[38;5;241m=\u001b[39m \u001b[43mabcd1234\u001b[49m\n\u001b[0;32m      2\u001b[0m \u001b[38;5;28mprint\u001b[39m (x,\u001b[38;5;28mtype\u001b[39m(x))\n",
      "\u001b[1;31mNameError\u001b[0m: name 'abcd1234' is not defined"
     ]
    }
   ],
   "source": [
    "x = abcd1234\n",
    "print (x,type(x))\n",
    "#errr ig we cant mix"
   ]
  },
  {
   "cell_type": "code",
   "execution_count": 9,
   "id": "ffee5e3d",
   "metadata": {},
   "outputs": [
    {
     "name": "stdout",
     "output_type": "stream",
     "text": [
      "1.5 <class 'float'>\n"
     ]
    }
   ],
   "source": [
    "x = 1.5\n",
    "print (x,type(x))"
   ]
  },
  {
   "cell_type": "markdown",
   "id": "fdf931bc",
   "metadata": {},
   "source": [
    "### 1.6 Combining English and variables"
   ]
  },
  {
   "cell_type": "code",
   "execution_count": 36,
   "id": "32557e3c",
   "metadata": {},
   "outputs": [
    {
     "name": "stdout",
     "output_type": "stream",
     "text": [
      "        Bruce Wayne is Batman.\n"
     ]
    }
   ],
   "source": [
    "text = 'Bruce Wayne is Batman.'\n",
    "print(f'{text:>30}')      # A block of 30 characters; aligned right\n",
    "# **a block aligned right by 30 characters"
   ]
  },
  {
   "cell_type": "code",
   "execution_count": 39,
   "id": "1b8b291e",
   "metadata": {},
   "outputs": [
    {
     "name": "stdout",
     "output_type": "stream",
     "text": [
      "Bruce Wayne is Batman.\n"
     ]
    }
   ],
   "source": [
    "text = 'Bruce Wayne is Batman.'\n",
    "print(f'{text:>10}') \n",
    "\n",
    "#18 characters here\n",
    "#wait so if the text exceeds 10 characters the alignment will cut off?\n",
    "#oh wait the number is to see how much to shift the text by "
   ]
  },
  {
   "cell_type": "code",
   "execution_count": 15,
   "id": "5ea657bf",
   "metadata": {},
   "outputs": [
    {
     "name": "stdout",
     "output_type": "stream",
     "text": [
      "Bruce Wayne is Batman.\n"
     ]
    }
   ],
   "source": [
    "text = 'Bruce Wayne is Batman.'\n",
    "print(f'{text:^20}') \n",
    "#wait what the alignment is set for 20 in this case tho \n",
    "#errr why doesn't it work "
   ]
  },
  {
   "cell_type": "code",
   "execution_count": 36,
   "id": "ae9f11b5",
   "metadata": {},
   "outputs": [
    {
     "name": "stdout",
     "output_type": "stream",
     "text": [
      "Bruce Wayne is Batman.                            \n"
     ]
    }
   ],
   "source": [
    "text = 'Bruce Wayne is Batman.'\n",
    "print(f'{text:>50}') "
   ]
  },
  {
   "cell_type": "code",
   "execution_count": 50,
   "id": "f0270043",
   "metadata": {},
   "outputs": [
    {
     "name": "stdout",
     "output_type": "stream",
     "text": [
      "The cube of pi to 6 decimal places is 31.006277\n"
     ]
    }
   ],
   "source": [
    "import math\n",
    "print(f'The cube of pi to 6 decimal places is {math.pi**3:.6f}')\n",
    "#f is used for decimal points \n",
    "#e is used when u want to see the power/ magnitude of the number"
   ]
  },
  {
   "cell_type": "markdown",
   "id": "5b9bba77",
   "metadata": {},
   "source": [
    "### 1.7 Python can be a prima-donna."
   ]
  },
  {
   "cell_type": "markdown",
   "id": "2eec5d08",
   "metadata": {},
   "source": [
    "oh ok"
   ]
  },
  {
   "cell_type": "markdown",
   "id": "4fb53ec6",
   "metadata": {},
   "source": [
    "## 2 Best Practices for Scientific Computing"
   ]
  },
  {
   "cell_type": "markdown",
   "id": "ce212df1",
   "metadata": {},
   "source": [
    "### 2.1 Some tips"
   ]
  },
  {
   "cell_type": "markdown",
   "id": "6219ee5a",
   "metadata": {},
   "source": [
    "aightz\n"
   ]
  },
  {
   "cell_type": "markdown",
   "id": "481bf97f",
   "metadata": {},
   "source": [
    "### 2.2 Getting help."
   ]
  },
  {
   "cell_type": "code",
   "execution_count": 51,
   "id": "b0b3ac76",
   "metadata": {},
   "outputs": [
    {
     "name": "stdout",
     "output_type": "stream",
     "text": [
      "Help on built-in function print in module builtins:\n",
      "\n",
      "print(...)\n",
      "    print(value, ..., sep=' ', end='\\n', file=sys.stdout, flush=False)\n",
      "    \n",
      "    Prints the values to a stream, or to sys.stdout by default.\n",
      "    Optional keyword arguments:\n",
      "    file:  a file-like object (stream); defaults to the current sys.stdout.\n",
      "    sep:   string inserted between values, default a space.\n",
      "    end:   string appended after the last value, default a newline.\n",
      "    flush: whether to forcibly flush the stream.\n",
      "\n"
     ]
    }
   ],
   "source": [
    "help(print)\n"
   ]
  },
  {
   "cell_type": "markdown",
   "id": "a066fe36",
   "metadata": {},
   "source": [
    "## Exercise 1 :  Bias for some heroes"
   ]
  },
  {
   "cell_type": "code",
   "execution_count": 55,
   "id": "9ffbeb96",
   "metadata": {},
   "outputs": [
    {
     "name": "stdout",
     "output_type": "stream",
     "text": [
      "The value of x is 5.\n"
     ]
    }
   ],
   "source": [
    "x=5\n",
    "print(f\"The value of x is {x}.\")"
   ]
  },
  {
   "cell_type": "code",
   "execution_count": 38,
   "id": "f122df6b",
   "metadata": {},
   "outputs": [
    {
     "name": "stdout",
     "output_type": "stream",
     "text": [
      "What is your name?ekdme\n",
      "Hello ekdme!\n"
     ]
    }
   ],
   "source": [
    "def hello():\n",
    "    if name == \"Batman\":\n",
    "        print(f\"Hello {name.upper()}!\")\n",
    "    elif name == \"Black Widow\":\n",
    "        print(f\"Hello {name.upper()}!\")\n",
    "    else:\n",
    "        print(f\"Hello {name.lower()}!\")\n",
    "        \n",
    "name = input(\"What is your name?\")\n",
    "hello()"
   ]
  },
  {
   "cell_type": "markdown",
   "id": "954ec1c7",
   "metadata": {},
   "source": [
    "## Exercise 2 :  Bias for some heroes, continues"
   ]
  },
  {
   "cell_type": "code",
   "execution_count": null,
   "id": "7b8eb4ad",
   "metadata": {},
   "outputs": [],
   "source": [
    "def hello(name):\n",
    "    if name == \"Batman\":\n",
    "        print(f\"Hello {name.upper()}!\")\n",
    "    elif name == \"Black Widow\":\n",
    "        print(f\"Hello {name.upper()}!\")\n",
    "    else:\n",
    "        print(f\"Hello {name.lower()}!\")\n",
    "        \n",
    "name = input(\"what is ur name\")\n",
    "hello(f\"{name.capitalize()}\")"
   ]
  },
  {
   "cell_type": "markdown",
   "id": "6fcac86d",
   "metadata": {},
   "source": [
    "## Exercise 3 :  Look for help to replace"
   ]
  },
  {
   "cell_type": "code",
   "execution_count": 23,
   "id": "b33815b4",
   "metadata": {},
   "outputs": [
    {
     "name": "stdout",
     "output_type": "stream",
     "text": [
      "What i your name?joker\n",
      "Hello BATMAN!\n"
     ]
    }
   ],
   "source": [
    "#btw u only rly need to use f for print\n",
    "\n",
    "def hello(name):\n",
    "    if name == \"Batman\":\n",
    "        print(f\"Hello {name.upper()}!\")\n",
    "    elif name == \"Black Widow\":\n",
    "        print(f\"Hello {name.upper()}!\")\n",
    "    else:\n",
    "        print(f\"Hello {name.lower()}!\")\n",
    "        \n",
    "name = input(\"What is your name?\")\n",
    "hello(name.capitalize().replace(\"Joker\",\"Batman\"))\n"
   ]
  }
 ],
 "metadata": {
  "kernelspec": {
   "display_name": "Python 3 (ipykernel)",
   "language": "python",
   "name": "python3"
  },
  "language_info": {
   "codemirror_mode": {
    "name": "ipython",
    "version": 3
   },
   "file_extension": ".py",
   "mimetype": "text/x-python",
   "name": "python",
   "nbconvert_exporter": "python",
   "pygments_lexer": "ipython3",
   "version": "3.10.8"
  },
  "toc": {
   "base_numbering": 1,
   "nav_menu": {},
   "number_sections": true,
   "sideBar": true,
   "skip_h1_title": false,
   "title_cell": "Table of Contents",
   "title_sidebar": "Contents",
   "toc_cell": false,
   "toc_position": {},
   "toc_section_display": true,
   "toc_window_display": false
  },
  "vscode": {
   "interpreter": {
    "hash": "31f2aee4e71d21fbe5cf8b01ff0e069b9275f58929596ceb00d14d90e3e16cd6"
   }
  }
 },
 "nbformat": 4,
 "nbformat_minor": 5
}
