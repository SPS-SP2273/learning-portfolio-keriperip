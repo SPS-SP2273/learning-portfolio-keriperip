{
 "cells": [
  {
   "cell_type": "markdown",
   "id": "123456",
   "metadata": {},
   "source": [
    "<div style=\"text-align:left;font-size:2em\"><span style=\"font-weight:bolder;font-size:1.25em\">SP2273 | Learning Portfolio</span><br><br><span style=\"font-weight:bold;color:darkred\">Basics (Need)</span></div>"
   ]
  },
  {
   "cell_type": "markdown",
   "id": "669d4f48",
   "metadata": {},
   "source": [
    "## 1 Some Python Basics"
   ]
  },
  {
   "cell_type": "markdown",
   "id": "96ba407b",
   "metadata": {},
   "source": [
    "### 1.1 Functions"
   ]
  },
  {
   "cell_type": "code",
   "execution_count": 1,
   "id": "f86052e9",
   "metadata": {},
   "outputs": [
    {
     "name": "stdout",
     "output_type": "stream",
     "text": [
      "hello world\n"
     ]
    }
   ],
   "source": [
    "print (\"hello world\")\n"
   ]
  },
  {
   "cell_type": "code",
   "execution_count": 2,
   "id": "a26aba54",
   "metadata": {},
   "outputs": [
    {
     "name": "stdout",
     "output_type": "stream",
     "text": [
      "lmao xd i love 2273\n"
     ]
    }
   ],
   "source": [
    "print (\"lmao xd i love 2273\")"
   ]
  },
  {
   "cell_type": "code",
   "execution_count": 3,
   "id": "2c7bf8ea",
   "metadata": {},
   "outputs": [
    {
     "name": "stdout",
     "output_type": "stream",
     "text": [
      "ok not rly tbh it's aight\n"
     ]
    }
   ],
   "source": [
    "print (\"ok not rly tbh it's aight\")"
   ]
  },
  {
   "cell_type": "markdown",
   "id": "f9f9975f",
   "metadata": {},
   "source": [
    "### 1.2 Python is interpreted"
   ]
  },
  {
   "cell_type": "code",
   "execution_count": 4,
   "id": "7c7b3947",
   "metadata": {},
   "outputs": [
    {
     "name": "stdout",
     "output_type": "stream",
     "text": [
      "Hello World\n",
      "Hello World again\n"
     ]
    }
   ],
   "source": [
    "print('Hello World')\n",
    "print('Hello World again')\n"
   ]
  },
  {
   "cell_type": "markdown",
   "id": "21530180",
   "metadata": {},
   "source": [
    "### 1.3 Python is sensitive."
   ]
  },
  {
   "cell_type": "code",
   "execution_count": 5,
   "id": "70cd697c",
   "metadata": {},
   "outputs": [
    {
     "name": "stdout",
     "output_type": "stream",
     "text": [
      "Hello World\n"
     ]
    },
    {
     "ename": "NameError",
     "evalue": "name 'Print' is not defined",
     "output_type": "error",
     "traceback": [
      "\u001b[1;31m---------------------------------------------------------------------------\u001b[0m",
      "\u001b[1;31mNameError\u001b[0m                                 Traceback (most recent call last)",
      "Cell \u001b[1;32mIn[5], line 2\u001b[0m\n\u001b[0;32m      1\u001b[0m \u001b[38;5;28mprint\u001b[39m(\u001b[38;5;124m'\u001b[39m\u001b[38;5;124mHello World\u001b[39m\u001b[38;5;124m'\u001b[39m)      \u001b[38;5;66;03m# This WILL work\u001b[39;00m\n\u001b[1;32m----> 2\u001b[0m \u001b[43mPrint\u001b[49m(\u001b[38;5;124m'\u001b[39m\u001b[38;5;124mHello World\u001b[39m\u001b[38;5;124m'\u001b[39m)      \u001b[38;5;66;03m# This will NOT work\u001b[39;00m\n",
      "\u001b[1;31mNameError\u001b[0m: name 'Print' is not defined"
     ]
    }
   ],
   "source": [
    "\n",
    "print('Hello World')      # This WILL work\n",
    "Print('Hello World')      # This will NOT work\n"
   ]
  },
  {
   "cell_type": "markdown",
   "id": "7d7a30ec",
   "metadata": {},
   "source": [
    "### 1.4 Comments"
   ]
  },
  {
   "cell_type": "code",
   "execution_count": 6,
   "id": "afc9faad",
   "metadata": {},
   "outputs": [
    {
     "name": "stdout",
     "output_type": "stream",
     "text": [
      "it's too early for this\n"
     ]
    }
   ],
   "source": [
    "print (\"it's too early for this\") #yeah i think it's too early for this \n"
   ]
  },
  {
   "cell_type": "code",
   "execution_count": 7,
   "id": "0c20fe32",
   "metadata": {},
   "outputs": [
    {
     "name": "stdout",
     "output_type": "stream",
     "text": [
      "oops will i get marks deducted for typing random stuff\n"
     ]
    }
   ],
   "source": [
    "print (\"oops will i get marks deducted for typing random stuff\") #doing random stuff "
   ]
  },
  {
   "cell_type": "markdown",
   "id": "4ace7d55",
   "metadata": {},
   "source": [
    "### 1.5 = is not the same as =="
   ]
  },
  {
   "cell_type": "code",
   "execution_count": 3,
   "id": "85a5117c",
   "metadata": {},
   "outputs": [
    {
     "name": "stdout",
     "output_type": "stream",
     "text": [
      "what is your namebatman\n",
      "nice\n"
     ]
    }
   ],
   "source": [
    "#working code \n",
    "#checking name \n",
    "name = input(\"what is your name\")\n",
    "\n",
    "if name == \"batman\":\n",
    "    print(\"nice\")\n",
    "else:\n",
    "    print(\"meh\")"
   ]
  },
  {
   "cell_type": "code",
   "execution_count": null,
   "id": "dcab003f",
   "metadata": {},
   "outputs": [],
   "source": [
    "#errr i forgot to define x or smth \n",
    "input (\"what is your name\")\n",
    "x = name \n",
    "\n",
    "if x == batman:\n",
    "    print (\"nice\")\n",
    "else:\n",
    "    print (\"meh\")"
   ]
  },
  {
   "cell_type": "markdown",
   "id": "bcac7b52",
   "metadata": {},
   "source": [
    "### 1.6 Use if to make decisions"
   ]
  },
  {
   "cell_type": "code",
   "execution_count": 13,
   "id": "35a073c0",
   "metadata": {},
   "outputs": [
    {
     "name": "stdout",
     "output_type": "stream",
     "text": [
      "Hello Hero | Batman!\n"
     ]
    }
   ],
   "source": [
    "name = 'Batman'\n",
    "\n",
    "if name == 'Batman':\n",
    "    print('Hello Hero | Batman!')\n",
    "else:\n",
    "    print('Hello World!')\n",
    "    \n"
   ]
  },
  {
   "cell_type": "markdown",
   "id": "958d0569",
   "metadata": {},
   "source": [
    "### 1.7 Indentations (spaces) are sooo IMPORTANT!"
   ]
  },
  {
   "cell_type": "code",
   "execution_count": 14,
   "id": "b5484043",
   "metadata": {},
   "outputs": [
    {
     "name": "stdout",
     "output_type": "stream",
     "text": [
      "10\n"
     ]
    }
   ],
   "source": [
    "x = 10\n",
    "print(x)\n"
   ]
  },
  {
   "cell_type": "markdown",
   "id": "247d6eeb",
   "metadata": {},
   "source": [
    "### 1.8 ‘age’ is English, age is a variable."
   ]
  },
  {
   "cell_type": "code",
   "execution_count": 4,
   "id": "bbb4c6eb",
   "metadata": {},
   "outputs": [
    {
     "ename": "NameError",
     "evalue": "name 'age' is not defined",
     "output_type": "error",
     "traceback": [
      "\u001b[1;31m---------------------------------------------------------------------------\u001b[0m",
      "\u001b[1;31mNameError\u001b[0m                                 Traceback (most recent call last)",
      "Cell \u001b[1;32mIn[4], line 1\u001b[0m\n\u001b[1;32m----> 1\u001b[0m \u001b[38;5;28mprint\u001b[39m(\u001b[43mage\u001b[49m)       \u001b[38;5;66;03m# Print the value of the variable age\u001b[39;00m\n\u001b[0;32m      2\u001b[0m \u001b[38;5;28mprint\u001b[39m(\u001b[38;5;124m\"\u001b[39m\u001b[38;5;124mage\u001b[39m\u001b[38;5;124m\"\u001b[39m)     \u001b[38;5;66;03m# Print the English word 'age'\u001b[39;00m\n",
      "\u001b[1;31mNameError\u001b[0m: name 'age' is not defined"
     ]
    }
   ],
   "source": [
    "print(age)       # Print the value of the variable age\n",
    "print(\"age\")     # Print the English word 'age'\n"
   ]
  },
  {
   "cell_type": "code",
   "execution_count": 21,
   "id": "db10100e",
   "metadata": {},
   "outputs": [
    {
     "name": "stdout",
     "output_type": "stream",
     "text": [
      "what is ur age100\n",
      "100\n",
      "?\n",
      "wow that's p old\n"
     ]
    }
   ],
   "source": [
    "age = input(\"what is ur age\")\n",
    "print (age) \n",
    "print (\"?\")   # Print the value of the variable age\n",
    "print(\"wow that's p old\")     # Print the English word 'age'"
   ]
  },
  {
   "cell_type": "code",
   "execution_count": 26,
   "id": "a9b22c6f",
   "metadata": {},
   "outputs": [
    {
     "ename": "SyntaxError",
     "evalue": "invalid syntax (3561909193.py, line 2)",
     "output_type": "error",
     "traceback": [
      "\u001b[1;36m  Cell \u001b[1;32mIn[26], line 2\u001b[1;36m\u001b[0m\n\u001b[1;33m    print (f[age:?]) # Print the value of the variable age\u001b[0m\n\u001b[1;37m                 ^\u001b[0m\n\u001b[1;31mSyntaxError\u001b[0m\u001b[1;31m:\u001b[0m invalid syntax\n"
     ]
    }
   ],
   "source": [
    "#trying to add a question makr behind the returned age\n",
    "#i remember there being an f function to format but i forgot how to use it \n",
    "age = input(\"what is ur age\")\n",
    "print (f[age:?]) # Print the value of the variable age\n",
    "print(\"wow that's p old\")     # Print the English word 'age'"
   ]
  },
  {
   "cell_type": "markdown",
   "id": "1167096e",
   "metadata": {},
   "source": [
    "### 1.9 Escape sequences"
   ]
  },
  {
   "cell_type": "code",
   "execution_count": null,
   "id": "c81b579b",
   "metadata": {},
   "outputs": [],
   "source": [
    "print('You\\'re twenty years old.')"
   ]
  },
  {
   "cell_type": "code",
   "execution_count": null,
   "id": "d6a023b7",
   "metadata": {},
   "outputs": [],
   "source": [
    "print('A\\\\B\\\\C')"
   ]
  },
  {
   "cell_type": "code",
   "execution_count": null,
   "id": "57bc0279",
   "metadata": {},
   "outputs": [],
   "source": [
    "print('A\\nB\\nC')"
   ]
  },
  {
   "cell_type": "code",
   "execution_count": null,
   "id": "d900476a",
   "metadata": {},
   "outputs": [],
   "source": [
    "print('A\\tB\\tC')"
   ]
  },
  {
   "cell_type": "code",
   "execution_count": 29,
   "id": "c2209f55",
   "metadata": {},
   "outputs": [
    {
     "name": "stdout",
     "output_type": "stream",
     "text": [
      "You're 20 years old which really isn't very old.\n"
     ]
    }
   ],
   "source": [
    "#different machines have different standardisations for spaces and punctuation\n",
    "#trying to combine multiple quotation mark escape sequences\n",
    "print('You\\'re 20 years old which really isn\\'t very old.')"
   ]
  },
  {
   "cell_type": "markdown",
   "id": "648950cd",
   "metadata": {},
   "source": [
    "### 1.10 Brackets"
   ]
  },
  {
   "cell_type": "code",
   "execution_count": 30,
   "id": "667fb0a8",
   "metadata": {},
   "outputs": [
    {
     "name": "stdout",
     "output_type": "stream",
     "text": [
      "Hello!\n"
     ]
    }
   ],
   "source": [
    "\n",
    "print('Hello!')             # In functions"
   ]
  },
  {
   "cell_type": "code",
   "execution_count": 31,
   "id": "f948d23b",
   "metadata": {},
   "outputs": [
    {
     "data": {
      "text/plain": [
       "81"
      ]
     },
     "execution_count": 31,
     "metadata": {},
     "output_type": "execute_result"
    }
   ],
   "source": [
    "(1+2)**4 # For math"
   ]
  },
  {
   "cell_type": "code",
   "execution_count": 34,
   "id": "c7001363",
   "metadata": {},
   "outputs": [],
   "source": [
    "py_list = [1, 2, 3, 4, 5]   # A 1D list\n",
    "\n",
    "py_list_2 = [[1, \"A\"],      # A 2D list\n",
    "             [2, \"B\"],\n",
    "             [3, \"C\"],\n",
    "             [4, \"D\"],\n",
    "             [5, \"E\"]]"
   ]
  },
  {
   "cell_type": "code",
   "execution_count": 35,
   "id": "a716d066",
   "metadata": {},
   "outputs": [
    {
     "name": "stdout",
     "output_type": "stream",
     "text": [
      "100\n"
     ]
    }
   ],
   "source": [
    "personal_info = {\n",
    "    'Names': 'Batman',\n",
    "    'Real Name': 'Bruce Wayne',\n",
    "    'Age': 55,\n",
    "    'Affiliation': 'Justice League',\n",
    "    'Universe': 'DC'\n",
    "}\n",
    "print (age)\n",
    "#wait what how did i get 100"
   ]
  },
  {
   "cell_type": "code",
   "execution_count": 36,
   "id": "2e439c72",
   "metadata": {},
   "outputs": [
    {
     "ename": "SyntaxError",
     "evalue": "Missing parentheses in call to 'print'. Did you mean print(...)? (2164230490.py, line 8)",
     "output_type": "error",
     "traceback": [
      "\u001b[1;36m  Cell \u001b[1;32mIn[36], line 8\u001b[1;36m\u001b[0m\n\u001b[1;33m    print personal_info['Age']\u001b[0m\n\u001b[1;37m    ^\u001b[0m\n\u001b[1;31mSyntaxError\u001b[0m\u001b[1;31m:\u001b[0m Missing parentheses in call to 'print'. Did you mean print(...)?\n"
     ]
    }
   ],
   "source": [
    "personal_info = {\n",
    "    'Names': 'Batman',\n",
    "    'Real Name': 'Bruce Wayne',\n",
    "    'Age': 55,\n",
    "    'Affiliation': 'Justice League',\n",
    "    'Universe': 'DC'\n",
    "}\n",
    "print personal_info['Age']\n",
    "\n",
    "\n",
    "#forgot the parentheses"
   ]
  },
  {
   "cell_type": "code",
   "execution_count": 37,
   "id": "e2f7c6d9",
   "metadata": {},
   "outputs": [
    {
     "name": "stdout",
     "output_type": "stream",
     "text": [
      "55\n"
     ]
    }
   ],
   "source": [
    "personal_info = {\n",
    "    'Names': 'Batman',\n",
    "    'Real Name': 'Bruce Wayne',\n",
    "    'Age': 55,\n",
    "    'Affiliation': 'Justice League',\n",
    "    'Universe': 'DC'\n",
    "}\n",
    "print(personal_info['Age'])"
   ]
  },
  {
   "cell_type": "markdown",
   "id": "690974f7",
   "metadata": {},
   "source": [
    "## 2 Giving Python superpowers"
   ]
  },
  {
   "cell_type": "markdown",
   "id": "3f662824",
   "metadata": {},
   "source": [
    "### 2.1 Packages"
   ]
  },
  {
   "cell_type": "code",
   "execution_count": 38,
   "id": "276f2f60",
   "metadata": {},
   "outputs": [],
   "source": [
    "import math \n",
    "\n",
    "import numpy as np\n",
    "\n",
    "#alias for numpy is np\n"
   ]
  },
  {
   "cell_type": "markdown",
   "id": "583cc30a",
   "metadata": {},
   "source": [
    "### 2.2 The dot (.)"
   ]
  },
  {
   "cell_type": "code",
   "execution_count": 39,
   "id": "04bad9c0",
   "metadata": {},
   "outputs": [
    {
     "data": {
      "text/plain": [
       "3.0"
      ]
     },
     "execution_count": 39,
     "metadata": {},
     "output_type": "execute_result"
    }
   ],
   "source": [
    "math.sqrt(9)\n"
   ]
  },
  {
   "cell_type": "code",
   "execution_count": 40,
   "id": "5b7cd7ae",
   "metadata": {},
   "outputs": [
    {
     "data": {
      "text/plain": [
       "5.0"
      ]
     },
     "execution_count": 40,
     "metadata": {},
     "output_type": "execute_result"
    }
   ],
   "source": [
    "np.sqrt(25)"
   ]
  },
  {
   "cell_type": "code",
   "execution_count": 42,
   "id": "8cc6ce9d",
   "metadata": {},
   "outputs": [
    {
     "data": {
      "text/plain": [
       "11.0"
      ]
     },
     "execution_count": 42,
     "metadata": {},
     "output_type": "execute_result"
    }
   ],
   "source": [
    "np.sqrt(81)\n",
    "math.sqrt(121)"
   ]
  },
  {
   "cell_type": "code",
   "execution_count": 43,
   "id": "bdbf1d25",
   "metadata": {},
   "outputs": [
    {
     "data": {
      "text/plain": [
       "9.0"
      ]
     },
     "execution_count": 43,
     "metadata": {},
     "output_type": "execute_result"
    }
   ],
   "source": [
    "math.sqrt(121)\n",
    "np.sqrt(81)"
   ]
  },
  {
   "cell_type": "code",
   "execution_count": 44,
   "id": "1b171983",
   "metadata": {},
   "outputs": [
    {
     "name": "stdout",
     "output_type": "stream",
     "text": [
      "11.0\n",
      "9.0\n"
     ]
    }
   ],
   "source": [
    "#trying to print both \n",
    "#jupyter only gives the most recent output \n",
    "print(math.sqrt(121))\n",
    "print(np.sqrt(81))"
   ]
  },
  {
   "cell_type": "markdown",
   "id": "b30a780a",
   "metadata": {},
   "source": [
    "## Exercise 1 :  Total recall?"
   ]
  },
  {
   "cell_type": "markdown",
   "id": "014eae4c",
   "metadata": {},
   "source": [
    "as\n",
    "if \n",
    "print \n",
    "lists \n",
    "arrays \n",
    "dictionaries \n",
    "escape sequences\n",
    "import packages\n",
    "assignment \n",
    "dot functions\n",
    "\n",
    "\n",
    "\n"
   ]
  },
  {
   "cell_type": "markdown",
   "id": "aa9f3fdd",
   "metadata": {},
   "source": [
    "_comments\n",
    "assignment\n",
    "indentations \n",
    "brackets_"
   ]
  },
  {
   "cell_type": "markdown",
   "id": "ccfca642",
   "metadata": {},
   "source": [
    "## Exercise 2 :  Debug me"
   ]
  },
  {
   "cell_type": "code",
   "execution_count": 30,
   "id": "e986a5ac",
   "metadata": {},
   "outputs": [
    {
     "name": "stdout",
     "output_type": "stream",
     "text": [
      "what would you like x to be3\n",
      "what would you like y to be4\n",
      "the pythagorean triple is...\n",
      "3.0\n",
      "4.0\n",
      "and...\n",
      "5.0\n"
     ]
    }
   ],
   "source": [
    "#I know this is not the pythagorean 3,4,5 but I think this gives more flexbility\n",
    "x = float(input(\"what would you like x to be\"))\n",
    "y = float(input(\"what would you like y to be\"))\n",
    "z = math.sqrt(x**2 + y**2)\n",
    "print(\"the pythagorean triple is...\")\n",
    "print (x)\n",
    "print (y)\n",
    "print (\"and\")\n",
    "print (z)\n"
   ]
  },
  {
   "cell_type": "code",
   "execution_count": 31,
   "id": "e071f643",
   "metadata": {},
   "outputs": [
    {
     "ename": "SyntaxError",
     "evalue": "invalid decimal literal (98568595.py, line 10)",
     "output_type": "error",
     "traceback": [
      "\u001b[1;36m  Cell \u001b[1;32mIn[31], line 10\u001b[1;36m\u001b[0m\n\u001b[1;33m    print (f{z;.4f})\u001b[0m\n\u001b[1;37m                ^\u001b[0m\n\u001b[1;31mSyntaxError\u001b[0m\u001b[1;31m:\u001b[0m invalid decimal literal\n"
     ]
    }
   ],
   "source": [
    "#adding on to the one above by limiting the z output to 4 decimal places with the f string \n",
    "#forgot how to implement f string \n",
    "x = float(input(\"what would you like x to be\"))\n",
    "y = float(input(\"what would you like y to be\"))\n",
    "z = math.sqrt(x**2 + y**2)\n",
    "print(\"the pythagorean triple is...\")\n",
    "print (x)\n",
    "print (y)\n",
    "print (\"and\")\n",
    "print (f{z;.4f})"
   ]
  },
  {
   "cell_type": "code",
   "execution_count": 32,
   "id": "c7f1e322",
   "metadata": {},
   "outputs": [
    {
     "ename": "SyntaxError",
     "evalue": "invalid syntax. Perhaps you forgot a comma? (148093422.py, line 7)",
     "output_type": "error",
     "traceback": [
      "\u001b[1;36m  Cell \u001b[1;32mIn[32], line 7\u001b[1;36m\u001b[0m\n\u001b[1;33m    print (\"the pythagorean triple is\" int(x,y,z))\u001b[0m\n\u001b[1;37m           ^\u001b[0m\n\u001b[1;31mSyntaxError\u001b[0m\u001b[1;31m:\u001b[0m invalid syntax. Perhaps you forgot a comma?\n"
     ]
    }
   ],
   "source": [
    "#trying to key in the requested 3,4,5 in one straight row but having issues \n",
    "#trying to use the f string to solve it but not seeming to get it \n",
    "import math\n",
    "x = 3\n",
    "y = 4\n",
    "z = math.sqrt(x**2 + y**2)\n",
    "print (\"the pythagorean triple is\" int(x,y,z))\n",
    "\n"
   ]
  },
  {
   "cell_type": "markdown",
   "id": "02a8b84c",
   "metadata": {},
   "source": [
    "## Exercise 3 :  In your own words"
   ]
  },
  {
   "cell_type": "markdown",
   "id": "4bec6984",
   "metadata": {},
   "source": [
    "| #   |  Term   |    Description |\n",
    "| :---: | :-- | :--- |\n",
    "| 1   | Function  | A specific and unique term the user creates to reference later on in the code  |\n",
    "| 2   | Arguments  |The input into a function |\n",
    "| 3   | Comments   |Notes to the user or others using the code so the function of each block of code is clearly indicated  |\n",
    "| 4   | Indentations  | Spacings for the program to run commands in the proper sequence  |\n",
    "| 5   |Packages   |Prepared programs which can be imported into your code to introduce new commands and simplify the task  |\n",
    "| 6   | .  |Dots are used to add specifications at the end of a line of code to get a more exact output  |\n",
    "\n",
    "\n",
    "\n"
   ]
  },
  {
   "cell_type": "markdown",
   "id": "3faa8d9d",
   "metadata": {},
   "source": [
    "## Exercise 4 :  More than one way to divide"
   ]
  },
  {
   "cell_type": "code",
   "execution_count": null,
   "id": "7ee1cd2c",
   "metadata": {},
   "outputs": [],
   "source": [
    "5/2           # What do I do?\n"
   ]
  },
  {
   "cell_type": "code",
   "execution_count": 33,
   "id": "2918d465",
   "metadata": {},
   "outputs": [
    {
     "data": {
      "text/plain": [
       "2"
      ]
     },
     "execution_count": 33,
     "metadata": {},
     "output_type": "execute_result"
    }
   ],
   "source": [
    "5//2          # What do I do?"
   ]
  },
  {
   "cell_type": "code",
   "execution_count": null,
   "id": "4d04d4e8",
   "metadata": {},
   "outputs": [],
   "source": [
    "5%2           # What do I do?"
   ]
  },
  {
   "cell_type": "markdown",
   "id": "f692900f",
   "metadata": {},
   "source": [
    "| Operator   |  Name and use   | \n",
    "| :---: | :-- | \n",
    "|/   | Division: standard mathematical operator  |  \n",
    "| //  |Floor division: returns the largest possible integer    |  \n",
    "|  % | Modulus: returns the remainder after division   |  "
   ]
  }
 ],
 "metadata": {
  "kernelspec": {
   "display_name": "Python 3 (ipykernel)",
   "language": "python",
   "name": "python3"
  },
  "language_info": {
   "codemirror_mode": {
    "name": "ipython",
    "version": 3
   },
   "file_extension": ".py",
   "mimetype": "text/x-python",
   "name": "python",
   "nbconvert_exporter": "python",
   "pygments_lexer": "ipython3",
   "version": "3.10.8"
  },
  "toc": {
   "base_numbering": 1,
   "nav_menu": {},
   "number_sections": true,
   "sideBar": true,
   "skip_h1_title": false,
   "title_cell": "Table of Contents",
   "title_sidebar": "Contents",
   "toc_cell": false,
   "toc_position": {},
   "toc_section_display": true,
   "toc_window_display": false
  },
  "vscode": {
   "interpreter": {
    "hash": "31f2aee4e71d21fbe5cf8b01ff0e069b9275f58929596ceb00d14d90e3e16cd6"
   }
  }
 },
 "nbformat": 4,
 "nbformat_minor": 5
}
