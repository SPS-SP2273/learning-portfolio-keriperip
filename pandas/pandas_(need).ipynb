{
 "cells": [
  {
   "cell_type": "markdown",
   "id": "123456",
   "metadata": {},
   "source": [
    "<div style=\"text-align:left;font-size:2em\"><span style=\"font-weight:bolder;font-size:1.25em\">SP2273 | Learning Portfolio</span><br><br><span style=\"font-weight:bold;color:darkred\">Pandas (Need)</span></div>"
   ]
  },
  {
   "cell_type": "markdown",
   "id": "ec8b4b80",
   "metadata": {},
   "source": [
    "## 1 What is a dataframe"
   ]
  },
  {
   "cell_type": "markdown",
   "id": "334e25e7",
   "metadata": {},
   "source": [
    "### 1.1 Reading data from csv or excel files."
   ]
  },
  {
   "cell_type": "markdown",
   "id": "86256174",
   "metadata": {},
   "source": [
    "# unrelated sandbox "
   ]
  },
  {
   "cell_type": "code",
   "execution_count": 2,
   "id": "a0fab401",
   "metadata": {},
   "outputs": [
    {
     "name": "stdout",
     "output_type": "stream",
     "text": [
      "Enter mass in kg: 0.00005\n",
      "Enter temperature in Kelvin: 300\n"
     ]
    },
    {
     "data": {
      "image/png": "[encoded data removed]",
      "text/plain": [
       "<Figure size 640x480 with 1 Axes>"
      ]
     },
     "metadata": {},
     "output_type": "display_data"
    }
   ],
   "source": [
    "import numpy as np\n",
    "import matplotlib.pyplot as plt\n",
    "\n",
    "def maxwell_dist(v, m, T):\n",
    "    k = 1.380649e-23   # Boltzmann constant\n",
    "\n",
    "    f_v = (4 * np.pi * (m / (2 * np.pi * k * T)) ** (3/2) * v ** 2 *\n",
    "           np.exp(-m * v ** 2 / (2 * k * T)))\n",
    "\n",
    "    return f_v\n",
    "\n",
    "# Ask for user inputs for the mass and temperature\n",
    "m = float(input(\"Enter mass in kg: \"))\n",
    "T = float(input(\"Enter temperature in Kelvin: \"))\n",
    "\n",
    "# Define the range of velocities to plot\n",
    "v = np.linspace(0, 2000, 10000)\n",
    "\n",
    "# Calculate the Maxwell distribution\n",
    "f_v = maxwell_dist(v, m, T)\n",
    "\n",
    "# Plot the distribution\n",
    "plt.plot(v, f_v)\n",
    "plt.xlabel('Velocity (m/s)')\n",
    "plt.ylabel('Probability density')\n",
    "plt.title(f'Maxwell Distribution for a Gas at {T}K and m={m} kg')\n",
    "plt.show()\n"
   ]
  },
  {
   "cell_type": "code",
   "execution_count": null,
   "id": "b4401395",
   "metadata": {},
   "outputs": [],
   "source": [
    "\n",
    "# Your code here\n"
   ]
  },
  {
   "cell_type": "markdown",
   "id": "4ff16e8e",
   "metadata": {},
   "source": [
    "### 1.2 Characteristics to notice"
   ]
  },
  {
   "cell_type": "code",
   "execution_count": null,
   "id": "a58ee07f",
   "metadata": {},
   "outputs": [],
   "source": [
    "\n",
    "# Your code here\n"
   ]
  },
  {
   "cell_type": "markdown",
   "id": "86d1bddc",
   "metadata": {},
   "source": [
    "## 2 Quick Peeks"
   ]
  },
  {
   "cell_type": "markdown",
   "id": "d6bd1209",
   "metadata": {},
   "source": [
    "### 2.1 Head and Tail"
   ]
  },
  {
   "cell_type": "code",
   "execution_count": null,
   "id": "3eb01608",
   "metadata": {},
   "outputs": [],
   "source": [
    "\n",
    "# Your code here\n"
   ]
  },
  {
   "cell_type": "markdown",
   "id": "14ee8596",
   "metadata": {},
   "source": [
    "### 2.2 Size and Shape"
   ]
  },
  {
   "cell_type": "code",
   "execution_count": null,
   "id": "58dc58b1",
   "metadata": {},
   "outputs": [],
   "source": [
    "\n",
    "# Your code here\n"
   ]
  },
  {
   "cell_type": "markdown",
   "id": "ace9b489",
   "metadata": {},
   "source": [
    "### 2.3 Summaries (I)"
   ]
  },
  {
   "cell_type": "code",
   "execution_count": null,
   "id": "99789106",
   "metadata": {},
   "outputs": [],
   "source": [
    "\n",
    "# Your code here\n"
   ]
  },
  {
   "cell_type": "markdown",
   "id": "07e09810",
   "metadata": {},
   "source": [
    "### 2.4 Summaries (II)"
   ]
  },
  {
   "cell_type": "code",
   "execution_count": null,
   "id": "ba3817f5",
   "metadata": {},
   "outputs": [],
   "source": [
    "\n",
    "# Your code here\n"
   ]
  },
  {
   "cell_type": "markdown",
   "id": "51da899c",
   "metadata": {},
   "source": [
    "## 3 Housekeeping"
   ]
  },
  {
   "cell_type": "markdown",
   "id": "1fb046b1",
   "metadata": {},
   "source": [
    "### 3.1 Dropping unnecessary columns"
   ]
  },
  {
   "cell_type": "code",
   "execution_count": null,
   "id": "16aaf4c7",
   "metadata": {},
   "outputs": [],
   "source": [
    "\n",
    "# Your code here\n"
   ]
  },
  {
   "cell_type": "markdown",
   "id": "f6f4d03e",
   "metadata": {},
   "source": [
    "### 3.2 Reorganising columns"
   ]
  },
  {
   "cell_type": "code",
   "execution_count": null,
   "id": "1d2f6610",
   "metadata": {},
   "outputs": [],
   "source": [
    "\n",
    "# Your code here\n"
   ]
  },
  {
   "cell_type": "markdown",
   "id": "e6b6790d",
   "metadata": {},
   "source": [
    "### 3.3 Renaming columns"
   ]
  },
  {
   "cell_type": "code",
   "execution_count": null,
   "id": "edeea239",
   "metadata": {},
   "outputs": [],
   "source": [
    "\n",
    "# Your code here\n"
   ]
  },
  {
   "cell_type": "markdown",
   "id": "c13f5b94",
   "metadata": {},
   "source": [
    "### 3.4 Setting the index"
   ]
  },
  {
   "cell_type": "code",
   "execution_count": null,
   "id": "7454f672",
   "metadata": {},
   "outputs": [],
   "source": [
    "\n",
    "# Your code here\n"
   ]
  },
  {
   "cell_type": "markdown",
   "id": "58c1177b",
   "metadata": {},
   "source": [
    "### 3.5 Applying changes"
   ]
  },
  {
   "cell_type": "code",
   "execution_count": null,
   "id": "e7906cdc",
   "metadata": {},
   "outputs": [],
   "source": [
    "\n",
    "# Your code here\n"
   ]
  },
  {
   "cell_type": "markdown",
   "id": "a7ff6c90",
   "metadata": {},
   "source": [
    "### 3.6 Changing Column Type"
   ]
  },
  {
   "cell_type": "code",
   "execution_count": null,
   "id": "bfd3da67",
   "metadata": {},
   "outputs": [],
   "source": [
    "\n",
    "# Your code here\n"
   ]
  },
  {
   "cell_type": "markdown",
   "id": "61a25d43",
   "metadata": {},
   "source": [
    "### 3.7 Adding a new column"
   ]
  },
  {
   "cell_type": "code",
   "execution_count": null,
   "id": "5e80fed1",
   "metadata": {},
   "outputs": [],
   "source": [
    "\n",
    "# Your code here\n"
   ]
  },
  {
   "cell_type": "markdown",
   "id": "37d5b517",
   "metadata": {},
   "source": [
    "### 3.8 Saving to file"
   ]
  },
  {
   "cell_type": "code",
   "execution_count": null,
   "id": "ec20518f",
   "metadata": {},
   "outputs": [],
   "source": [
    "\n",
    "# Your code here\n"
   ]
  },
  {
   "cell_type": "markdown",
   "id": "e4e712d4",
   "metadata": {},
   "source": [
    "### 3.9 The recipe so far"
   ]
  },
  {
   "cell_type": "code",
   "execution_count": null,
   "id": "a6d0c4ff",
   "metadata": {},
   "outputs": [],
   "source": [
    "\n",
    "# Your code here\n"
   ]
  },
  {
   "cell_type": "markdown",
   "id": "bdd73352",
   "metadata": {},
   "source": [
    "## 4 Asking questions"
   ]
  },
  {
   "cell_type": "markdown",
   "id": "0f0f1cb2",
   "metadata": {},
   "source": [
    "### 4.1 Locating data"
   ]
  },
  {
   "cell_type": "code",
   "execution_count": null,
   "id": "28916476",
   "metadata": {},
   "outputs": [],
   "source": [
    "\n",
    "# Your code here\n"
   ]
  },
  {
   "cell_type": "markdown",
   "id": "12c06ee4",
   "metadata": {},
   "source": [
    "### 4.2 Asking questions with masks"
   ]
  },
  {
   "cell_type": "code",
   "execution_count": null,
   "id": "e9457157",
   "metadata": {},
   "outputs": [],
   "source": [
    "\n",
    "# Your code here\n"
   ]
  },
  {
   "cell_type": "markdown",
   "id": "887da06b",
   "metadata": {},
   "source": [
    "### 4.3 The magic of groupby()"
   ]
  },
  {
   "cell_type": "code",
   "execution_count": null,
   "id": "6b683aaf",
   "metadata": {},
   "outputs": [],
   "source": [
    "\n",
    "# Your code here\n"
   ]
  },
  {
   "cell_type": "markdown",
   "id": "3f4a4dfd",
   "metadata": {},
   "source": [
    "## Exercise 1 :  Another dummy class"
   ]
  },
  {
   "cell_type": "code",
   "execution_count": null,
   "id": "1f30a035",
   "metadata": {},
   "outputs": [],
   "source": [
    "\n",
    "\n",
    "\n",
    "# Your solution here\n",
    "\n",
    "\n"
   ]
  }
 ],
 "metadata": {
  "kernelspec": {
   "display_name": "Python 3 (ipykernel)",
   "language": "python",
   "name": "python3"
  },
  "language_info": {
   "codemirror_mode": {
    "name": "ipython",
    "version": 3
   },
   "file_extension": ".py",
   "mimetype": "text/x-python",
   "name": "python",
   "nbconvert_exporter": "python",
   "pygments_lexer": "ipython3",
   "version": "3.10.8"
  },
  "toc": {
   "base_numbering": 1,
   "nav_menu": {},
   "number_sections": true,
   "sideBar": true,
   "skip_h1_title": false,
   "title_cell": "Table of Contents",
   "title_sidebar": "Contents",
   "toc_cell": false,
   "toc_position": {},
   "toc_section_display": true,
   "toc_window_display": false
  },
  "vscode": {
   "interpreter": {
    "hash": "31f2aee4e71d21fbe5cf8b01ff0e069b9275f58929596ceb00d14d90e3e16cd6"
   }
  }
 },
 "nbformat": 4,
 "nbformat_minor": 5
}
