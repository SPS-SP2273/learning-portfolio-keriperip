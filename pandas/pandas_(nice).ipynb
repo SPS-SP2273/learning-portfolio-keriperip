{
 "cells": [
  {
   "cell_type": "markdown",
   "id": "123456",
   "metadata": {},
   "source": [
    "<div style=\"text-align:left;font-size:2em\"><span style=\"font-weight:bolder;font-size:1.25em\">SP2273 | Learning Portfolio</span><br><br><span style=\"font-weight:bold;color:darkred\">Pandas (Nice)</span></div>"
   ]
  },
  {
   "cell_type": "markdown",
   "id": "6d948561",
   "metadata": {},
   "source": [
    "## 1 Seaborn"
   ]
  },
  {
   "cell_type": "markdown",
   "id": "1ea20887",
   "metadata": {},
   "source": [
    "### 1.1 Setting the context"
   ]
  },
  {
   "cell_type": "markdown",
   "id": "273a329f",
   "metadata": {},
   "source": [
    "# viva qn "
   ]
  },
  {
   "cell_type": "markdown",
   "id": "99bb1db4",
   "metadata": {},
   "source": [
    "### 1.2 Some Examples"
   ]
  },
  {
   "cell_type": "code",
   "execution_count": null,
   "id": "653e534a",
   "metadata": {},
   "outputs": [],
   "source": [
    "#General imports\n",
    "import numpy as np\n",
    "import math \n",
    "from matplotlib import pyplot as plt\n",
    "\n",
    "#Obtaining general plot for cos(x)-x = 0\n",
    "x = np.linspace(-np.pi, np.pi, num=100)\n",
    "cos_x = np.cos(x)\n",
    "\n",
    "fig, ax = plt.subplots(nrows=1, ncols=1)\n",
    "ax.plot(x, np.cos(x), label = 'cos(x)')\n",
    "ax.plot(x, x, label = 'x')\n",
    "ax.plot(x, cos_x-x, label = 'cos(x)-x')\n",
    "#ax.plot(x, y, color='r', linestyle=':', label='$y$')\n",
    "plt.hlines(0,-3,3, linestyle='--', colors='red')\n",
    "ax.legend()\n",
    "plt.show()\n",
    "\n",
    "#Determine possible estimate for the roots\n",
    "#change syntax for a.any\n",
    "#while any(np.cos(x)) == any(x):\n",
    "    #print (x)"
   ]
  },
  {
   "cell_type": "code",
   "execution_count": null,
   "id": "a02cfa58",
   "metadata": {},
   "outputs": [],
   "source": [
    "def f(x):\n",
    "    return "
   ]
  },
  {
   "cell_type": "code",
   "execution_count": 5,
   "id": "4018a713",
   "metadata": {},
   "outputs": [
    {
     "name": "stdout",
     "output_type": "stream",
     "text": [
      "What is your left x-value?0.1\n",
      "What is your right x-value?1\n"
     ]
    },
    {
     "ename": "SyntaxError",
     "evalue": "'return' outside function (838221995.py, line 17)",
     "output_type": "error",
     "traceback": [
      "\u001b[1;36m  Cell \u001b[1;32mIn[5], line 17\u001b[1;36m\u001b[0m\n\u001b[1;33m    return (x_mid)\u001b[0m\n\u001b[1;37m    ^\u001b[0m\n\u001b[1;31mSyntaxError\u001b[0m\u001b[1;31m:\u001b[0m 'return' outside function\n"
     ]
    }
   ],
   "source": [
    "#Input function for x left and x right + calculation of midpoint \n",
    "x_left = float(input('What is your left x-value?'))\n",
    "x_right = float(input('What is your right x-value?'))\n",
    "x_mid = (x_left + x_right)/2\n",
    "    \n",
    "#Store the value from the function using return to be called later\n",
    "   # return (x_mid)\n",
    "\n",
    "#If midpoint same sign as x left  #Else replace x right with midpoint\n",
    "while x_mid != x_left != x_right:\n",
    "    if f(x_mid)/f(x_left) > 0:\n",
    "        x_left = x_mid\n",
    "    \n",
    "    else:\n",
    "        x_right = x_mid\n",
    "\n",
    "return (x_mid)\n",
    "\n",
    "#Keep asking until root is found\n",
    "print(f'The root is {x_mid}')"
   ]
  },
  {
   "cell_type": "markdown",
   "id": "9cf55ffb",
   "metadata": {},
   "source": [
    "### 2 A few more things"
   ]
  },
  {
   "cell_type": "markdown",
   "id": "228b692c",
   "metadata": {},
   "source": [
    "### 2.1 Merging dataframes"
   ]
  },
  {
   "cell_type": "code",
   "execution_count": null,
   "id": "6410e3c1",
   "metadata": {},
   "outputs": [],
   "source": [
    "\n",
    "# Your code here\n"
   ]
  },
  {
   "cell_type": "markdown",
   "id": "34ae71bc",
   "metadata": {},
   "source": [
    "### 2.2 isin()"
   ]
  },
  {
   "cell_type": "code",
   "execution_count": null,
   "id": "7a58a273",
   "metadata": {},
   "outputs": [],
   "source": [
    "\n",
    "# Your code here\n"
   ]
  },
  {
   "cell_type": "markdown",
   "id": "82bc6148",
   "metadata": {},
   "source": [
    "## Explore 1 :  Graduate Data"
   ]
  }
 ],
 "metadata": {
  "kernelspec": {
   "display_name": "Python 3 (ipykernel)",
   "language": "python",
   "name": "python3"
  },
  "language_info": {
   "codemirror_mode": {
    "name": "ipython",
    "version": 3
   },
   "file_extension": ".py",
   "mimetype": "text/x-python",
   "name": "python",
   "nbconvert_exporter": "python",
   "pygments_lexer": "ipython3",
   "version": "3.10.8"
  },
  "toc": {
   "base_numbering": 1,
   "nav_menu": {},
   "number_sections": true,
   "sideBar": true,
   "skip_h1_title": false,
   "title_cell": "Table of Contents",
   "title_sidebar": "Contents",
   "toc_cell": false,
   "toc_position": {},
   "toc_section_display": true,
   "toc_window_display": false
  },
  "vscode": {
   "interpreter": {
    "hash": "31f2aee4e71d21fbe5cf8b01ff0e069b9275f58929596ceb00d14d90e3e16cd6"
   }
  }
 },
 "nbformat": 4,
 "nbformat_minor": 5
}
