{
 "cells": [
  {
   "cell_type": "markdown",
   "id": "123456",
   "metadata": {},
   "source": [
    "<div style=\"text-align:left;font-size:2em\"><span style=\"font-weight:bolder;font-size:1.25em\">SP2273 | Learning Portfolio</span><br><br><span style=\"font-weight:bold;color:darkred\">Numerical Solutions (Good)</span></div>"
   ]
  },
  {
   "cell_type": "markdown",
   "id": "4f772f8b",
   "metadata": {},
   "source": [
    "## 1 Differential Equations and Euler"
   ]
  },
  {
   "cell_type": "markdown",
   "id": "cc86241e",
   "metadata": {},
   "source": [
    "### 1.2 What do we mean by changes?"
   ]
  },
  {
   "cell_type": "code",
   "execution_count": null,
   "id": "1760de71",
   "metadata": {},
   "outputs": [],
   "source": []
  },
  {
   "cell_type": "markdown",
   "id": "e8114257",
   "metadata": {},
   "source": [
    "### 1.3 Calculus: Meaning and Notation"
   ]
  },
  {
   "cell_type": "code",
   "execution_count": null,
   "id": "a13dd734",
   "metadata": {},
   "outputs": [],
   "source": []
  },
  {
   "cell_type": "markdown",
   "id": "c13f3f99",
   "metadata": {},
   "source": [
    "### 1.4 Calculus: Getting a feel for \\(\\dfrac{dN}{dt}\\)"
   ]
  },
  {
   "cell_type": "code",
   "execution_count": null,
   "id": "7d18bfee",
   "metadata": {},
   "outputs": [],
   "source": []
  },
  {
   "cell_type": "markdown",
   "id": "161c1885",
   "metadata": {},
   "source": [
    "### 1.5 Solving Differential Equations"
   ]
  },
  {
   "cell_type": "code",
   "execution_count": null,
   "id": "562480f5",
   "metadata": {},
   "outputs": [],
   "source": []
  },
  {
   "cell_type": "markdown",
   "id": "1f2057ee",
   "metadata": {},
   "source": [
    "### 1.6 The Euler Method"
   ]
  },
  {
   "cell_type": "code",
   "execution_count": null,
   "id": "0c15318b",
   "metadata": {},
   "outputs": [],
   "source": []
  },
  {
   "cell_type": "markdown",
   "id": "e504b542",
   "metadata": {},
   "source": [
    "### 1.7 Using Euler for the logistic equation"
   ]
  },
  {
   "cell_type": "code",
   "execution_count": null,
   "id": "2292bb9f",
   "metadata": {},
   "outputs": [],
   "source": []
  },
  {
   "cell_type": "markdown",
   "id": "39d0b336",
   "metadata": {},
   "source": [
    "### 1.8 Some things to note about the code"
   ]
  },
  {
   "cell_type": "code",
   "execution_count": null,
   "id": "1f7748d6",
   "metadata": {},
   "outputs": [],
   "source": []
  },
  {
   "cell_type": "markdown",
   "id": "9324943c",
   "metadata": {},
   "source": [
    "## 2 Coupled Differential Equations: Predator-Prey Model"
   ]
  },
  {
   "cell_type": "markdown",
   "id": "debb52c7",
   "metadata": {},
   "source": [
    "### 2.1 The equations"
   ]
  },
  {
   "cell_type": "code",
   "execution_count": null,
   "id": "75f172d8",
   "metadata": {},
   "outputs": [],
   "source": []
  },
  {
   "cell_type": "markdown",
   "id": "840749dc",
   "metadata": {},
   "source": [
    "### 2.2 Example code"
   ]
  },
  {
   "cell_type": "code",
   "execution_count": null,
   "id": "716bb2fc",
   "metadata": {},
   "outputs": [],
   "source": []
  },
  {
   "cell_type": "markdown",
   "id": "f26764e4",
   "metadata": {},
   "source": [
    "### 2.3 Some things to note about the code"
   ]
  },
  {
   "cell_type": "code",
   "execution_count": null,
   "id": "84dfefa3",
   "metadata": {},
   "outputs": [],
   "source": []
  },
  {
   "cell_type": "markdown",
   "id": "c1facc0c",
   "metadata": {},
   "source": [
    "## 3 Hello SciPy"
   ]
  },
  {
   "cell_type": "markdown",
   "id": "c318f9e4",
   "metadata": {},
   "source": [
    "### 3.1 SciPy odeint()"
   ]
  },
  {
   "cell_type": "code",
   "execution_count": null,
   "id": "57327fd6",
   "metadata": {},
   "outputs": [],
   "source": []
  },
  {
   "cell_type": "markdown",
   "id": "590ee5dd",
   "metadata": {},
   "source": [
    "### 3.2 Radioactivity"
   ]
  },
  {
   "cell_type": "code",
   "execution_count": null,
   "id": "bd998498",
   "metadata": {},
   "outputs": [],
   "source": []
  },
  {
   "cell_type": "markdown",
   "id": "3b7f6f62",
   "metadata": {},
   "source": [
    "### 3.3 Logistic Equation"
   ]
  },
  {
   "cell_type": "code",
   "execution_count": null,
   "id": "6738955b",
   "metadata": {},
   "outputs": [],
   "source": []
  },
  {
   "cell_type": "markdown",
   "id": "49df6c47",
   "metadata": {},
   "source": [
    "### 3.4 Predator-Prey"
   ]
  },
  {
   "cell_type": "code",
   "execution_count": null,
   "id": "7da5dacb",
   "metadata": {},
   "outputs": [],
   "source": []
  },
  {
   "cell_type": "markdown",
   "id": "69846660",
   "metadata": {},
   "source": [
    "## Exercise 1 :  The Lorentz Attaractor"
   ]
  },
  {
   "cell_type": "code",
   "execution_count": null,
   "id": "dc0fe4f1",
   "metadata": {},
   "outputs": [],
   "source": []
  }
 ],
 "metadata": {
  "kernelspec": {
   "display_name": "Python 3 (ipykernel)",
   "language": "python",
   "name": "python3"
  },
  "language_info": {
   "codemirror_mode": {
    "name": "ipython",
    "version": 3
   },
   "file_extension": ".py",
   "mimetype": "text/x-python",
   "name": "python",
   "nbconvert_exporter": "python",
   "pygments_lexer": "ipython3",
   "version": "3.10.8"
  },
  "toc": {
   "base_numbering": 1,
   "nav_menu": {},
   "number_sections": true,
   "sideBar": true,
   "skip_h1_title": false,
   "title_cell": "Table of Contents",
   "title_sidebar": "Contents",
   "toc_cell": false,
   "toc_position": {},
   "toc_section_display": true,
   "toc_window_display": false
  },
  "vscode": {
   "interpreter": {
    "hash": "31f2aee4e71d21fbe5cf8b01ff0e069b9275f58929596ceb00d14d90e3e16cd6"
   }
  }
 },
 "nbformat": 4,
 "nbformat_minor": 5
}
