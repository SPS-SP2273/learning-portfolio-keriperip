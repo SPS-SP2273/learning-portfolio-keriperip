{
 "cells": [
  {
   "cell_type": "markdown",
   "id": "123456",
   "metadata": {},
   "source": [
    "<div style=\"text-align:left;font-size:2em\"><span style=\"font-weight:bolder;font-size:1.25em\">SP2273 | Learning Portfolio</span><br><br><span style=\"font-weight:bold;color:darkred\">Loops (Need)</span></div>"
   ]
  },
  {
   "cell_type": "markdown",
   "id": "d56c08e7",
   "metadata": {},
   "source": [
    "## 1 for"
   ]
  },
  {
   "cell_type": "markdown",
   "id": "21d33807",
   "metadata": {},
   "source": [
    "### 1.1 for with a list"
   ]
  },
  {
   "cell_type": "code",
   "execution_count": 4,
   "id": "63cc84f1",
   "metadata": {},
   "outputs": [
    {
     "ename": "SyntaxError",
     "evalue": "invalid syntax (353921171.py, line 10)",
     "output_type": "error",
     "traceback": [
      "\u001b[1;36m  Cell \u001b[1;32mIn[4], line 10\u001b[1;36m\u001b[0m\n\u001b[1;33m    if name == Tony Stark:\u001b[0m\n\u001b[1;37m                    ^\u001b[0m\n\u001b[1;31mSyntaxError\u001b[0m\u001b[1;31m:\u001b[0m invalid syntax\n"
     ]
    }
   ],
   "source": [
    "real_names = [\"Natasha Romanoff\", \"Tony Stark\", \"Stephen Strange\"]\n",
    "\n",
    "for name in real_names:\n",
    "    print(f\"{name} is a Marvel superhero!\")\n",
    "    \n",
    "#everything in the list gets assigned as name \n",
    "#wait so if i call name in a following line what gets called \n",
    "#do i need to call the index instead\n",
    "\n",
    "if name == Tony Stark:\n",
    "    print(\"dies\")"
   ]
  },
  {
   "cell_type": "markdown",
   "id": "f87bbc9a",
   "metadata": {},
   "source": [
    "### 1.2 for with enumerate"
   ]
  },
  {
   "cell_type": "code",
   "execution_count": 5,
   "id": "5cfb9b2f",
   "metadata": {},
   "outputs": [
    {
     "name": "stdout",
     "output_type": "stream",
     "text": [
      "0: Natasha Romanoff is a Marvel superhero!\n",
      "1: Tony Stark is a Marvel superhero!\n",
      "2: Stephen Strange is a Marvel superhero!\n"
     ]
    }
   ],
   "source": [
    "super_names = [\"Black Widow\", \"Iron Man\", \"Doctor Strange\"]\n",
    "real_names = [\"Natasha Romanoff\", \"Tony Stark\", \"Stephen Strange\"]\n",
    "\n",
    "for i, name in enumerate(real_names):\n",
    "    print(f'{i}: {name} is a Marvel superhero!')\n",
    "\n",
    "#i is just the initial numbering index of a term or smth?\n",
    "#similar to how in vectors they have ijk to denote the order of the coordinates"
   ]
  },
  {
   "cell_type": "markdown",
   "id": "c65af0ac",
   "metadata": {},
   "source": [
    "### 1.3 for with range"
   ]
  },
  {
   "cell_type": "code",
   "execution_count": 6,
   "id": "a4f2332d",
   "metadata": {},
   "outputs": [
    {
     "name": "stdout",
     "output_type": "stream",
     "text": [
      "0\n",
      "1\n",
      "2\n",
      "3\n",
      "4\n"
     ]
    }
   ],
   "source": [
    "for i in range(5):\n",
    "    print(i)\n",
    "    \n",
    "#wait what i dont even have a list or array tho \n",
    "#the system is like blind copying the a range of 5\n"
   ]
  },
  {
   "cell_type": "code",
   "execution_count": 11,
   "id": "e6df76d1",
   "metadata": {},
   "outputs": [
    {
     "name": "stdout",
     "output_type": "stream",
     "text": [
      "50\n",
      "58\n",
      "66\n",
      "74\n",
      "82\n",
      "90\n",
      "98\n"
     ]
    }
   ],
   "source": [
    "for i in range (50,100,8):\n",
    "    print(i)"
   ]
  },
  {
   "cell_type": "code",
   "execution_count": 13,
   "id": "e877f796",
   "metadata": {},
   "outputs": [
    {
     "name": "stdout",
     "output_type": "stream",
     "text": [
      "50\n",
      "58\n",
      "66\n",
      "74\n",
      "82\n",
      "90\n",
      "98\n"
     ]
    }
   ],
   "source": [
    "#wait what if used smth like j or k \n",
    "#what is i even \n",
    "for j in range (50,100,8):\n",
    "    print(j)\n",
    "\n",
    "    \n",
    "#wait what is it doesnt matter what alphabet i use"
   ]
  },
  {
   "cell_type": "code",
   "execution_count": 3,
   "id": "9b2f9809",
   "metadata": {},
   "outputs": [
    {
     "name": "stdout",
     "output_type": "stream",
     "text": [
      "0\n",
      "1\n",
      "2\n",
      "3\n",
      "4\n",
      "5\n"
     ]
    }
   ],
   "source": [
    "#lets trying implementing this to an existing list \n",
    "#does it read like an index\n",
    "\n",
    "super_names = [\"Black Widow\", \"Iron Man\", \"Doctor Strange\"]\n",
    "real_names = [\"Natasha Romanoff\", \"Tony Stark\", \"Stephen Strange\"]\n",
    "\n",
    "#ok lets combine them first coz each list is sorta short\n",
    "\n",
    "total = super_names + real_names\n",
    "\n",
    "for i in range (6):\n",
    "    print (i)\n",
    "    \n",
    "#what that sucks\n",
    "#thought it could reference the index "
   ]
  },
  {
   "cell_type": "code",
   "execution_count": 5,
   "id": "a3d532dc",
   "metadata": {},
   "outputs": [
    {
     "name": "stdout",
     "output_type": "stream",
     "text": [
      "0: Black Widow\n",
      "1: Iron Man\n",
      "2: Doctor Strange\n",
      "3: Natasha Romanoff\n",
      "4: Tony Stark\n",
      "5: Stephen Strange\n"
     ]
    }
   ],
   "source": [
    "#switch it a lil\n",
    "\n",
    "super_names = [\"Black Widow\", \"Iron Man\", \"Doctor Strange\"]\n",
    "real_names = [\"Natasha Romanoff\", \"Tony Stark\", \"Stephen Strange\"]\n",
    "\n",
    "#combining lists\n",
    "\n",
    "total = super_names + real_names\n",
    "\n",
    "for i, name in enumerate(total):\n",
    "    print(f'{i}: {name}')"
   ]
  },
  {
   "cell_type": "code",
   "execution_count": 7,
   "id": "9283a776",
   "metadata": {},
   "outputs": [
    {
     "name": "stdout",
     "output_type": "stream",
     "text": [
      "Stephen Strange\n"
     ]
    }
   ],
   "source": [
    "#switch it a lil\n",
    "\n",
    "super_names = [\"Black Widow\", \"Iron Man\", \"Doctor Strange\"]\n",
    "real_names = [\"Natasha Romanoff\", \"Tony Stark\", \"Stephen Strange\"]\n",
    "\n",
    "#combining lists\n",
    "\n",
    "total = super_names + real_names\n",
    "\n",
    "print(f'{name}')\n",
    "\n",
    "#wait what why does it print the last term\n",
    "#might need a lil help for this one"
   ]
  },
  {
   "cell_type": "markdown",
   "id": "d800d2ef",
   "metadata": {},
   "source": [
    "## 2 while"
   ]
  },
  {
   "cell_type": "markdown",
   "id": "04a106ca",
   "metadata": {},
   "source": [
    "## Exercise 1 :  Make me a list"
   ]
  },
  {
   "cell_type": "code",
   "execution_count": 14,
   "id": "fb08797b",
   "metadata": {},
   "outputs": [
    {
     "name": "stdout",
     "output_type": "stream",
     "text": [
      "0\n",
      "1\n",
      "4\n",
      "9\n",
      "16\n",
      "25\n",
      "36\n",
      "49\n",
      "64\n",
      "81\n"
     ]
    }
   ],
   "source": [
    "#wait 0 is an integer? lmao oops \n",
    "#anyway \n",
    "\n",
    "#lets create my own list\n",
    "ten_list = (0,1,2,3,4,5,6,7,8,9)\n",
    "\n",
    "for number in range(10):\n",
    "    print(number**2)\n",
    "    \n",
    "#right numerical output but this isnt rly a list right "
   ]
  },
  {
   "cell_type": "code",
   "execution_count": 1,
   "id": "f5f21899",
   "metadata": {},
   "outputs": [
    {
     "name": "stdout",
     "output_type": "stream",
     "text": [
      "[0, 1, 4, 9, 16, 25, 36, 49, 64, 81]\n"
     ]
    }
   ],
   "source": [
    "#errr lets convert to numpy array coz techncially lists cant use exponential \n",
    "#just checking\n",
    "\n",
    "ten_list = (0,1,2,3,4,5,6,7,8,9)\n",
    "\n",
    "import numpy as np \n",
    "\n",
    "numpy_ten=np.array(ten_list)\n",
    "\n",
    "ten_square_list = numpy_ten**2\n",
    "\n",
    "print(ten_square_list.tolist())\n",
    "\n",
    "#sorta cheating coz i googled the tolist thing\n",
    "#but aye i got it "
   ]
  },
  {
   "cell_type": "code",
   "execution_count": 9,
   "id": "b05de849",
   "metadata": {},
   "outputs": [
    {
     "name": "stdout",
     "output_type": "stream",
     "text": [
      "0\n",
      "1\n",
      "4\n",
      "9\n",
      "16\n",
      "25\n",
      "36\n",
      "49\n",
      "64\n"
     ]
    }
   ],
   "source": [
    "#trying to use the stuff taught in loops rather than just spam array \n",
    "#i think i should create my own list \n",
    "#then use the for command or smth\n",
    "#but i thought list u cant apply square\n",
    "#maybe .pow()\n",
    "\n",
    "import math \n",
    "\n",
    "ten_list = (0,1,2,3,4,5,6,7,8,9)\n",
    "\n",
    "for index in range (0,9,1):\n",
    "    print(index**2)\n",
    "    \n",
    "#wait i dont get why it doesnt replicate as  list if my initial dataset is a list"
   ]
  },
  {
   "cell_type": "markdown",
   "id": "37fec892",
   "metadata": {},
   "source": [
    "## Exercise 2 :  Make me an odd list"
   ]
  },
  {
   "cell_type": "code",
   "execution_count": null,
   "id": "2270818c",
   "metadata": {},
   "outputs": [],
   "source": [
    "#errr lets convert to numpy array coz techncially lists cant use exponential \n",
    "\n",
    "ten_list = (0,1,2,3,4,5,6,7,8,9)\n",
    "\n",
    "import numpy as np \n",
    "\n",
    "numpy_ten=np.array(ten_list)\n",
    "\n",
    "if (numpy_ten.all() + 1) % 2 == 0:\n",
    "    print(ten_list)"
   ]
  },
  {
   "cell_type": "code",
   "execution_count": 4,
   "id": "275a5acb",
   "metadata": {},
   "outputs": [
    {
     "name": "stdout",
     "output_type": "stream",
     "text": [
      "[1, 9, 25, 49, 81]\n"
     ]
    }
   ],
   "source": [
    "ten_list = []\n",
    "\n",
    "for number in range(1,10,2):\n",
    "    ten_list.append(number**2)\n",
    "    \n",
    "print(ten_list)"
   ]
  },
  {
   "cell_type": "markdown",
   "id": "b9cea1a7",
   "metadata": {},
   "source": [
    "## Exercise 3 :  Make me another odd list"
   ]
  },
  {
   "cell_type": "code",
   "execution_count": 18,
   "id": "e6345b34",
   "metadata": {},
   "outputs": [
    {
     "name": "stdout",
     "output_type": "stream",
     "text": [
      "[1, 9, 25, 49, 81]\n"
     ]
    }
   ],
   "source": [
    "number = 1\n",
    "num_list = []\n",
    "\n",
    "while number < 10:\n",
    "    num_list.append(number**2)\n",
    "    number += 2\n",
    "\n",
    "print(num_list)"
   ]
  },
  {
   "cell_type": "code",
   "execution_count": 9,
   "id": "18210051",
   "metadata": {},
   "outputs": [
    {
     "name": "stdout",
     "output_type": "stream",
     "text": [
      "[1, 9.0, 25.0, 49.0, 81.0]\n"
     ]
    }
   ],
   "source": [
    "num = [1]\n",
    "\n",
    "import math \n",
    "\n",
    "while num[-1] <= 7**2:\n",
    "    num.append((math.sqrt(num[-1]) + 2)**2)\n",
    "\n",
    "print(num)"
   ]
  }
 ],
 "metadata": {
  "kernelspec": {
   "display_name": "Python 3 (ipykernel)",
   "language": "python",
   "name": "python3"
  },
  "language_info": {
   "codemirror_mode": {
    "name": "ipython",
    "version": 3
   },
   "file_extension": ".py",
   "mimetype": "text/x-python",
   "name": "python",
   "nbconvert_exporter": "python",
   "pygments_lexer": "ipython3",
   "version": "3.10.8"
  },
  "toc": {
   "base_numbering": 1,
   "nav_menu": {},
   "number_sections": true,
   "sideBar": true,
   "skip_h1_title": false,
   "title_cell": "Table of Contents",
   "title_sidebar": "Contents",
   "toc_cell": false,
   "toc_position": {},
   "toc_section_display": true,
   "toc_window_display": false
  },
  "vscode": {
   "interpreter": {
    "hash": "31f2aee4e71d21fbe5cf8b01ff0e069b9275f58929596ceb00d14d90e3e16cd6"
   }
  }
 },
 "nbformat": 4,
 "nbformat_minor": 5
}
