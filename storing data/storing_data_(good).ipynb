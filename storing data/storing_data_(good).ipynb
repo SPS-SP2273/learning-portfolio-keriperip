{
 "cells": [
  {
   "cell_type": "markdown",
   "id": "123456",
   "metadata": {},
   "source": [
    "<div style=\"text-align:left;font-size:2em\"><span style=\"font-weight:bolder;font-size:1.25em\">SP2273 | Learning Portfolio</span><br><br><span style=\"font-weight:bold;color:darkred\">Storing Data (Good)</span></div>"
   ]
  },
  {
   "cell_type": "markdown",
   "id": "673a904e",
   "metadata": {},
   "source": [
    "## 1 Subsetting: Indexing and Slicing"
   ]
  },
  {
   "cell_type": "markdown",
   "id": "fbcf8990",
   "metadata": {},
   "source": [
    "### 1.1 Indexing & Slicing 1D (Lists & Arrays)"
   ]
  },
  {
   "cell_type": "code",
   "execution_count": 6,
   "id": "5b54572d",
   "metadata": {},
   "outputs": [
    {
     "data": {
      "text/plain": [
       "array(['a1', 'c3', 'e5', 'g7', 'i9'], dtype='<U3')"
      ]
     },
     "execution_count": 6,
     "metadata": {},
     "output_type": "execute_result"
    }
   ],
   "source": [
    "import numpy as np\n",
    "py_list=[\"a1\", \"b2\", \"c3\", \"d4\", \"e5\",\"f6\", \"g7\", \"h8\", \"i9\", \"j10\"]\n",
    "np_array=np.array(py_list)\n",
    "\n",
    "x = np_array\n",
    "\n",
    "x[0:10:2]\n",
    "\n",
    "#use the double colon for skipping over a range of terms in an array"
   ]
  },
  {
   "cell_type": "markdown",
   "id": "6049447d",
   "metadata": {},
   "source": [
    "### 1.2 Subsetting by masking (Arrays only)"
   ]
  },
  {
   "cell_type": "code",
   "execution_count": 17,
   "id": "54b945e7",
   "metadata": {},
   "outputs": [
    {
     "data": {
      "text/plain": [
       "array([2, 4, 6])"
      ]
     },
     "execution_count": 17,
     "metadata": {},
     "output_type": "execute_result"
    }
   ],
   "source": [
    "#u need an array on the elements which meet condition\n",
    "import numpy as np\n",
    "\n",
    "py_list=[1,2,3,4,5,6]\n",
    "np_array=np.array(py_list)\n",
    "\n",
    "mask = np_array % 2 == 0\n",
    "\n",
    "np_array[mask]"
   ]
  },
  {
   "cell_type": "code",
   "execution_count": 15,
   "id": "78481487",
   "metadata": {},
   "outputs": [
    {
     "name": "stdout",
     "output_type": "stream",
     "text": [
      "[False False False  True  True  True]\n"
     ]
    }
   ],
   "source": [
    "#list is used to check true false\n",
    "import numpy as np\n",
    "\n",
    "py_list=[1,2,3,4,5,6]\n",
    "np_array=np.array(py_list)\n",
    "\n",
    "mask = np_array > 3\n",
    "\n",
    "print(mask)"
   ]
  },
  {
   "cell_type": "markdown",
   "id": "0c898d62",
   "metadata": {},
   "source": [
    "### 1.3 Indexing & Slicing 2D Lists"
   ]
  },
  {
   "cell_type": "code",
   "execution_count": 20,
   "id": "2570e99b",
   "metadata": {},
   "outputs": [
    {
     "data": {
      "text/plain": [
       "'J'"
      ]
     },
     "execution_count": 20,
     "metadata": {},
     "output_type": "execute_result"
    }
   ],
   "source": [
    "py_list_2d = [[1, \"A\"], [2, \"B\"], [3, \"C\"], [4, \"D\"],\n",
    "              [5, \"E\"], [6, \"F\"], [7, \"G\"], [8, \"H\"],\n",
    "              [9, \"I\"], [10, \"J\"]]\n",
    "\n",
    "py_list_2d[9][1]"
   ]
  },
  {
   "cell_type": "code",
   "execution_count": 3,
   "id": "3ba11f0e",
   "metadata": {},
   "outputs": [
    {
     "data": {
      "text/plain": [
       "[7, 'G']"
      ]
     },
     "execution_count": 3,
     "metadata": {},
     "output_type": "execute_result"
    }
   ],
   "source": [
    "py_list_2d = [[1, \"A\"], [2, \"B\"], [3, \"C\"], [4, \"D\"],\n",
    "              [5, \"E\"], [6, \"F\"], [7, \"G\"], [8, \"H\"],\n",
    "              [9, \"I\"], [10, \"J\"]]\n",
    "\n",
    "py_list_2d[3:][3]"
   ]
  },
  {
   "cell_type": "code",
   "execution_count": 6,
   "id": "b01e5b5d",
   "metadata": {},
   "outputs": [
    {
     "data": {
      "text/plain": [
       "[[1, 'A'], [3, 'C'], [5, 'E'], [7, 'G']]"
      ]
     },
     "execution_count": 6,
     "metadata": {},
     "output_type": "execute_result"
    }
   ],
   "source": [
    "py_list_2d = [[1, \"A\"], [2, \"B\"], [3, \"C\"], [4, \"D\"],\n",
    "              [5, \"E\"], [6, \"F\"], [7, \"G\"], [8, \"H\"],\n",
    "              [9, \"I\"], [10, \"J\"]]\n",
    "\n",
    "py_list_2d[0:8:2]"
   ]
  },
  {
   "cell_type": "markdown",
   "id": "577a80d9",
   "metadata": {},
   "source": [
    "### 1.4 Indexing & Slicing 2D Arrays"
   ]
  },
  {
   "cell_type": "code",
   "execution_count": 11,
   "id": "a035ae06",
   "metadata": {},
   "outputs": [
    {
     "data": {
      "text/plain": [
       "'J'"
      ]
     },
     "execution_count": 11,
     "metadata": {},
     "output_type": "execute_result"
    }
   ],
   "source": [
    "#using an array to call instead of a list\n",
    "\n",
    "import numpy as np \n",
    "\n",
    "np_array_2d = np.array([[1, \"A\"], [2, \"B\"], [3, \"C\"], [4, \"D\"],\n",
    "                        [5, \"E\"], [6, \"F\"], [7, \"G\"], [8, \"H\"],\n",
    "                        [9, \"I\"], [10, \"J\"]])\n",
    "\n",
    "np_array_2d[9,1]"
   ]
  },
  {
   "cell_type": "code",
   "execution_count": 10,
   "id": "bb40a1ba",
   "metadata": {},
   "outputs": [
    {
     "data": {
      "text/plain": [
       "array(['4', '5', '6'], dtype='<U11')"
      ]
     },
     "execution_count": 10,
     "metadata": {},
     "output_type": "execute_result"
    }
   ],
   "source": [
    "import numpy as np \n",
    "\n",
    "np_array_2d = np.array([[1, \"A\"], [2, \"B\"], [3, \"C\"], [4, \"D\"],\n",
    "                        [5, \"E\"], [6, \"F\"], [7, \"G\"], [8, \"H\"],\n",
    "                        [9, \"I\"], [10, \"J\"]])\n",
    "\n",
    "np_array_2d[3:6, 0]\n",
    "\n",
    "#the range and the specific value are only separated by a comma in arrays"
   ]
  },
  {
   "cell_type": "markdown",
   "id": "6c04f6f9",
   "metadata": {},
   "source": [
    "### 1.5 Growing lists"
   ]
  },
  {
   "cell_type": "code",
   "execution_count": 29,
   "id": "38f9c65b",
   "metadata": {},
   "outputs": [
    {
     "data": {
      "text/plain": [
       "[1, 2, 3, 4]"
      ]
     },
     "execution_count": 29,
     "metadata": {},
     "output_type": "execute_result"
    }
   ],
   "source": [
    "x=[1]\n",
    "x+= [2]\n",
    "x+= [3]\n",
    "x+= [4]\n",
    "x"
   ]
  },
  {
   "cell_type": "code",
   "execution_count": 30,
   "id": "64c8fb03",
   "metadata": {},
   "outputs": [
    {
     "data": {
      "text/plain": [
       "[1, 2, 3, 4]"
      ]
     },
     "execution_count": 30,
     "metadata": {},
     "output_type": "execute_result"
    }
   ],
   "source": [
    "x=[1]\n",
    "x+= [2, 3, 4]\n",
    "x\n",
    "\n",
    "#just insert the new elements at one shot \n",
    "#can use += instead of x = x + whatever"
   ]
  },
  {
   "cell_type": "code",
   "execution_count": 12,
   "id": "26a50d32",
   "metadata": {},
   "outputs": [
    {
     "data": {
      "text/plain": [
       "[2, 3, 4, 1]"
      ]
     },
     "execution_count": 12,
     "metadata": {},
     "output_type": "execute_result"
    }
   ],
   "source": [
    "x=[1]\n",
    "x= [2, 3, 4] + x\n",
    "x\n",
    "\n",
    "#dictate the position of x on RHS if not adding new terms to the back "
   ]
  },
  {
   "cell_type": "code",
   "execution_count": null,
   "id": "e4618b35",
   "metadata": {},
   "outputs": [],
   "source": [
    "x=[1]\n",
    "x.append(2)\n",
    "x.append(3)\n",
    "x.append(4)\n",
    "x\n",
    "\n",
    "#dont need to type print for jupyter notebooks \n",
    "#x.append to add wtv u want\n",
    "#tbh feel like the other way is faster?\n"
   ]
  },
  {
   "cell_type": "code",
   "execution_count": 31,
   "id": "e6fa0b81",
   "metadata": {},
   "outputs": [
    {
     "ename": "TypeError",
     "evalue": "list.append() takes exactly one argument (3 given)",
     "output_type": "error",
     "traceback": [
      "\u001b[1;31m---------------------------------------------------------------------------\u001b[0m",
      "\u001b[1;31mTypeError\u001b[0m                                 Traceback (most recent call last)",
      "Cell \u001b[1;32mIn[31], line 2\u001b[0m\n\u001b[0;32m      1\u001b[0m x\u001b[38;5;241m=\u001b[39m[\u001b[38;5;241m1\u001b[39m]\n\u001b[1;32m----> 2\u001b[0m \u001b[43mx\u001b[49m\u001b[38;5;241;43m.\u001b[39;49m\u001b[43mappend\u001b[49m\u001b[43m(\u001b[49m\u001b[38;5;241;43m2\u001b[39;49m\u001b[43m,\u001b[49m\u001b[38;5;241;43m3\u001b[39;49m\u001b[43m,\u001b[49m\u001b[38;5;241;43m4\u001b[39;49m\u001b[43m)\u001b[49m\n\u001b[0;32m      3\u001b[0m x\n",
      "\u001b[1;31mTypeError\u001b[0m: list.append() takes exactly one argument (3 given)"
     ]
    }
   ],
   "source": [
    "x=[1]\n",
    "x.append(2,3,4)\n",
    "x\n",
    "\n",
    "#oops oh well"
   ]
  },
  {
   "cell_type": "markdown",
   "id": "275ebec3",
   "metadata": {},
   "source": [
    "## 2 Some loose ends"
   ]
  },
  {
   "cell_type": "markdown",
   "id": "a75e6545",
   "metadata": {},
   "source": [
    "### 2.1 Tuples"
   ]
  },
  {
   "cell_type": "code",
   "execution_count": 35,
   "id": "b5c62bfc",
   "metadata": {},
   "outputs": [
    {
     "name": "stdout",
     "output_type": "stream",
     "text": [
      "8\n"
     ]
    }
   ],
   "source": [
    "a=(3,4,5,6,7,8,9,10,11,12,13,14,15,16)\n",
    "\n",
    "#random tuple\n",
    "#tuples, lists and arrays all start with index 0\n",
    "\n",
    "print(a[5]) "
   ]
  },
  {
   "cell_type": "code",
   "execution_count": 14,
   "id": "c78b4f0c",
   "metadata": {},
   "outputs": [
    {
     "data": {
      "text/plain": [
       "8"
      ]
     },
     "execution_count": 14,
     "metadata": {},
     "output_type": "execute_result"
    }
   ],
   "source": [
    "#typing without print works too \n",
    "\n",
    "a=(3,4,5,6,7,8,9,10,11,12,13,14,15,16)\n",
    "\n",
    "#random tuple\n",
    "#tuples, lists and arrays all start with index 0\n",
    "\n",
    "a[5]"
   ]
  },
  {
   "cell_type": "code",
   "execution_count": 36,
   "id": "60b0b798",
   "metadata": {},
   "outputs": [
    {
     "ename": "TypeError",
     "evalue": "unsupported operand type(s) for +: 'int' and 'list'",
     "output_type": "error",
     "traceback": [
      "\u001b[1;31m---------------------------------------------------------------------------\u001b[0m",
      "\u001b[1;31mTypeError\u001b[0m                                 Traceback (most recent call last)",
      "Cell \u001b[1;32mIn[36], line 5\u001b[0m\n\u001b[0;32m      1\u001b[0m \u001b[38;5;66;03m#just checking \u001b[39;00m\n\u001b[0;32m      3\u001b[0m a\u001b[38;5;241m=\u001b[39m(\u001b[38;5;241m3\u001b[39m,\u001b[38;5;241m4\u001b[39m,\u001b[38;5;241m5\u001b[39m,\u001b[38;5;241m6\u001b[39m,\u001b[38;5;241m7\u001b[39m,\u001b[38;5;241m8\u001b[39m,\u001b[38;5;241m9\u001b[39m,\u001b[38;5;241m10\u001b[39m,\u001b[38;5;241m11\u001b[39m,\u001b[38;5;241m12\u001b[39m,\u001b[38;5;241m13\u001b[39m,\u001b[38;5;241m14\u001b[39m,\u001b[38;5;241m15\u001b[39m,\u001b[38;5;241m16\u001b[39m)\n\u001b[1;32m----> 5\u001b[0m \u001b[38;5;28mprint\u001b[39m(\u001b[43ma\u001b[49m\u001b[43m[\u001b[49m\u001b[38;5;241;43m5\u001b[39;49m\u001b[43m]\u001b[49m\u001b[38;5;241;43m+\u001b[39;49m\u001b[43m[\u001b[49m\u001b[38;5;241;43m1\u001b[39;49m\u001b[43m]\u001b[49m)\n",
      "\u001b[1;31mTypeError\u001b[0m: unsupported operand type(s) for +: 'int' and 'list'"
     ]
    }
   ],
   "source": [
    "#just checking \n",
    "\n",
    "a=(3,4,5,6,7,8,9,10,11,12,13,14,15,16)\n",
    "\n",
    "print(a[5]+[1])\n",
    "\n",
    "#cannot change a tuple!"
   ]
  },
  {
   "cell_type": "markdown",
   "id": "e57dbaf3",
   "metadata": {},
   "source": [
    "### 2.2 Be VERY careful when copying"
   ]
  },
  {
   "cell_type": "code",
   "execution_count": null,
   "id": "e437c9cf",
   "metadata": {},
   "outputs": [],
   "source": [
    "#dont casually equate!\n",
    "#stack .copy() function at the end \n",
    "\n",
    "x=[1, 2, 3]\n",
    "y=x.copy()\n",
    "z=x.copy()"
   ]
  },
  {
   "cell_type": "code",
   "execution_count": 38,
   "id": "9da12603",
   "metadata": {},
   "outputs": [
    {
     "ename": "NameError",
     "evalue": "name 'y' is not defined",
     "output_type": "error",
     "traceback": [
      "\u001b[1;31m---------------------------------------------------------------------------\u001b[0m",
      "\u001b[1;31mNameError\u001b[0m                                 Traceback (most recent call last)",
      "Cell \u001b[1;32mIn[38], line 4\u001b[0m\n\u001b[0;32m      1\u001b[0m \u001b[38;5;66;03m#just to be sure\u001b[39;00m\n\u001b[0;32m      3\u001b[0m x\u001b[38;5;241m=\u001b[39m[\u001b[38;5;241m1\u001b[39m, \u001b[38;5;241m2\u001b[39m, \u001b[38;5;241m3\u001b[39m]\n\u001b[1;32m----> 4\u001b[0m \u001b[43my\u001b[49m\u001b[38;5;241m==\u001b[39mx           \n\u001b[0;32m      6\u001b[0m \u001b[38;5;28mprint\u001b[39m (y[\u001b[38;5;241m0\u001b[39m])\n",
      "\u001b[1;31mNameError\u001b[0m: name 'y' is not defined"
     ]
    }
   ],
   "source": [
    "#just to be sure\n",
    "\n",
    "x=[1, 2, 3]\n",
    "y==x           \n",
    "\n",
    "print (y[0])\n",
    "\n",
    "#aights"
   ]
  },
  {
   "cell_type": "markdown",
   "id": "74ff015b",
   "metadata": {},
   "source": [
    "## Exercise 1 :  Total recall?"
   ]
  },
  {
   "cell_type": "markdown",
   "id": "dcceb07e",
   "metadata": {},
   "source": [
    "1. Subsetting is the general term for referencing terms within a list or array\n",
    "2. Indexing is calling on a specific element within a list or array \n",
    "3. Slicing is like indexing except you're calling on a range of elements within a list or array \n",
    "4. Masking is calling upon certain elements within the list or array which fulfil a preset condition "
   ]
  },
  {
   "cell_type": "markdown",
   "id": "cb87d3d0",
   "metadata": {},
   "source": [
    "## Exercise 2 :  Show me the ‘odd’ letters"
   ]
  },
  {
   "cell_type": "code",
   "execution_count": 52,
   "id": "b19d8a79",
   "metadata": {},
   "outputs": [
    {
     "data": {
      "text/plain": [
       "array(['1', '3', '2', '4', '5', '7', '6', '8', '10', '9'], dtype='<U11')"
      ]
     },
     "execution_count": 52,
     "metadata": {},
     "output_type": "execute_result"
    }
   ],
   "source": [
    "#subsetting all the first elements\n",
    "np_array_2d = np.array([[1, \"A\"], [3, \"C\"], [2, \"B\"], [4, \"D\"],\n",
    "                        [5, \"E\"], [7, \"G\"], [6, \"F\"], [8, \"H\"],\n",
    "                        [10, \"J\"], [9, \"I\"]])\n",
    "\n",
    "np_array_2d[0:8,0]\n",
    "#or\n",
    "np_array_2d[:,0]\n"
   ]
  },
  {
   "cell_type": "code",
   "execution_count": 15,
   "id": "76b759ba",
   "metadata": {},
   "outputs": [
    {
     "name": "stdout",
     "output_type": "stream",
     "text": [
      "[ 1  3  2  4  5  7  6  8 10  9]\n"
     ]
    }
   ],
   "source": [
    "#astype\n",
    "import numpy as np\n",
    "\n",
    "np_array_2d = np.array([[1, \"A\"], [3, \"C\"], [2, \"B\"], [4, \"D\"],\n",
    "                        [5, \"E\"], [7, \"G\"], [6, \"F\"], [8, \"H\"],\n",
    "                        [10, \"J\"], [9, \"I\"]])\n",
    "\n",
    "\n",
    "np_array_ints = np_array_2d[:,0].astype(int)\n",
    "\n",
    "print(np_array_ints)\n",
    "\n",
    "#print(np_array_2d[:,0]) doesn't work because the output will be standardised to str\n",
    "#numpy arrays can only standardise to one type and since int is easier to convert to str all will become str"
   ]
  },
  {
   "cell_type": "code",
   "execution_count": 7,
   "id": "88a889a0",
   "metadata": {},
   "outputs": [
    {
     "name": "stdout",
     "output_type": "stream",
     "text": [
      "[1 1 0 0 1 1 0 0 0 1]\n"
     ]
    }
   ],
   "source": [
    "#remainder after dividing by 2\n",
    "np_array_ints = np_array_2d[:,0].astype(int)\n",
    "\n",
    "np_array_div2 =  np_array_2d[:,0].astype(int) % 2\n",
    "\n",
    "print(np_array_div2)"
   ]
  },
  {
   "cell_type": "code",
   "execution_count": 19,
   "id": "f171178d",
   "metadata": {},
   "outputs": [
    {
     "name": "stdout",
     "output_type": "stream",
     "text": [
      "[ True  True False False  True  True False False False  True]\n"
     ]
    }
   ],
   "source": [
    "#creating mask \n",
    "np_array_ints = np_array_2d[:,0].astype(int)\n",
    "\n",
    "np_array_div2 =  np_array_2d[:,0].astype(int) % 2\n",
    "\n",
    "mask = np_array_div2 == 1\n",
    "\n",
    "print(mask)\n"
   ]
  },
  {
   "cell_type": "code",
   "execution_count": 21,
   "id": "7fc8cca4",
   "metadata": {},
   "outputs": [
    {
     "data": {
      "text/plain": [
       "array(['A', 'C', 'E', 'G', 'I'], dtype='<U11')"
      ]
     },
     "execution_count": 21,
     "metadata": {},
     "output_type": "execute_result"
    }
   ],
   "source": [
    "#extract odd numbers\n",
    "\n",
    "#just learnt from hari that mask only prints true values \n",
    "\n",
    "np_array_2d[mask,1]"
   ]
  },
  {
   "cell_type": "code",
   "execution_count": 17,
   "id": "5d292874",
   "metadata": {},
   "outputs": [
    {
     "ename": "IndexError",
     "evalue": "too many indices for array: array is 1-dimensional, but 2 were indexed",
     "output_type": "error",
     "traceback": [
      "\u001b[1;31m---------------------------------------------------------------------------\u001b[0m",
      "\u001b[1;31mIndexError\u001b[0m                                Traceback (most recent call last)",
      "Cell \u001b[1;32mIn[17], line 15\u001b[0m\n\u001b[0;32m     11\u001b[0m np_array_ints \u001b[38;5;241m=\u001b[39m np_array_2d[:,\u001b[38;5;241m0\u001b[39m]\u001b[38;5;241m.\u001b[39mastype(\u001b[38;5;28mint\u001b[39m)\n\u001b[0;32m     13\u001b[0m np_array_div2 \u001b[38;5;241m=\u001b[39m  np_array_2d[:,\u001b[38;5;241m0\u001b[39m]\u001b[38;5;241m.\u001b[39mastype(\u001b[38;5;28mint\u001b[39m) \u001b[38;5;241m%\u001b[39m \u001b[38;5;241m2\u001b[39m \u001b[38;5;241m==\u001b[39m \u001b[38;5;241m1\u001b[39m\n\u001b[1;32m---> 15\u001b[0m \u001b[43mnp_array_ints\u001b[49m\u001b[43m[\u001b[49m\u001b[43mnp_array_div2\u001b[49m\u001b[43m,\u001b[49m\u001b[38;5;241;43m1\u001b[39;49m\u001b[43m]\u001b[49m\n",
      "\u001b[1;31mIndexError\u001b[0m: too many indices for array: array is 1-dimensional, but 2 were indexed"
     ]
    }
   ],
   "source": [
    "import numpy as np\n",
    "\n",
    "np_array_2d = np.array([[1, \"A\"], [3, \"C\"], [2, \"B\"], [4, \"D\"],\n",
    "                        [5, \"E\"], [7, \"G\"], [6, \"F\"], [8, \"H\"],\n",
    "                        [10, \"J\"], [9, \"I\"]])\n",
    "\n",
    "\n",
    "np_array_ints = np_array_2d[:,0].astype(int)\n",
    "\n",
    "#remainder after dividing by 2\n",
    "np_array_ints = np_array_2d[:,0].astype(int)\n",
    "\n",
    "np_array_div2 =  np_array_2d[:,0].astype(int) % 2 == 1\n",
    "\n",
    "np_array_ints[np_array_div2,1]"
   ]
  }
 ],
 "metadata": {
  "kernelspec": {
   "display_name": "Python 3 (ipykernel)",
   "language": "python",
   "name": "python3"
  },
  "language_info": {
   "codemirror_mode": {
    "name": "ipython",
    "version": 3
   },
   "file_extension": ".py",
   "mimetype": "text/x-python",
   "name": "python",
   "nbconvert_exporter": "python",
   "pygments_lexer": "ipython3",
   "version": "3.10.8"
  },
  "toc": {
   "base_numbering": 1,
   "nav_menu": {},
   "number_sections": true,
   "sideBar": true,
   "skip_h1_title": false,
   "title_cell": "Table of Contents",
   "title_sidebar": "Contents",
   "toc_cell": false,
   "toc_position": {},
   "toc_section_display": true,
   "toc_window_display": false
  },
  "vscode": {
   "interpreter": {
    "hash": "31f2aee4e71d21fbe5cf8b01ff0e069b9275f58929596ceb00d14d90e3e16cd6"
   }
  }
 },
 "nbformat": 4,
 "nbformat_minor": 5
}
