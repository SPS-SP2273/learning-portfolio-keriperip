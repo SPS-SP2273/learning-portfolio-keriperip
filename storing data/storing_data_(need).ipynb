{
 "cells": [
  {
   "cell_type": "markdown",
   "id": "123456",
   "metadata": {},
   "source": [
    "<div style=\"text-align:left;font-size:2em\"><span style=\"font-weight:bolder;font-size:1.25em\">SP2273 | Learning Portfolio</span><br><br><span style=\"font-weight:bold;color:darkred\">Storing Data (Need)</span></div>"
   ]
  },
  {
   "cell_type": "markdown",
   "id": "897e5d15",
   "metadata": {},
   "source": [
    "## 1 Lists, Arrays & Dictionaries"
   ]
  },
  {
   "cell_type": "markdown",
   "id": "ac9e88cc",
   "metadata": {},
   "source": [
    "### 1.1 Let’s compare"
   ]
  },
  {
   "cell_type": "code",
   "execution_count": null,
   "id": "06f9af45",
   "metadata": {},
   "outputs": [],
   "source": [
    "py_super_names = [\"Black Widow\", \"Iron Man\", \"Doctor Strange\"]\n",
    "py_real_names = [\"Natasha Romanoff\", \"Tony Stark\", \"Stephen Strange\"]\n",
    "\n",
    "np_super_names = np.array([\"Black Widow\", \"Iron Man\", \"Doctor Strange\"])\n",
    "np_real_names = np.array([\"Natasha Romanoff\", \"Tony Stark\", \"Stephen Strange\"])\n",
    "\n",
    "superhero_info = {\"Natasha Romanoff\": \"Black Widow\",\n",
    "                  \"Tony Stark\": \"Iron Man\",\n",
    "                  \"Stephen Strange\": \"Doctor Strange\"}\n",
    "\n",
    "#wait i just copy pasted but this section doesn't rly have a question to work on "
   ]
  },
  {
   "cell_type": "markdown",
   "id": "0ccaabac",
   "metadata": {},
   "source": [
    "### 1.2 Accessing data from a list (or array)"
   ]
  },
  {
   "cell_type": "code",
   "execution_count": 10,
   "id": "97176006",
   "metadata": {},
   "outputs": [
    {
     "name": "stdout",
     "output_type": "stream",
     "text": [
      "Which number would you like?0\n",
      "Black Widow\n"
     ]
    }
   ],
   "source": [
    "#fetching data from lists\n",
    "\n",
    "py_super_names = [\"Black Widow\", \"Iron Man\", \"Doctor Strange\"]\n",
    "py_real_names = [\"Natasha Romanoff\", \"Tony Stark\", \"Stephen Strange\"]\n",
    "\n",
    "index = int(input(\"Which number would you like?\"))\n",
    "\n",
    "print (py_super_names[index])\n",
    "\n",
    "#i p much just always try to put input coz i hate changing my code lol"
   ]
  },
  {
   "cell_type": "code",
   "execution_count": 25,
   "id": "9e152586",
   "metadata": {},
   "outputs": [
    {
     "name": "stdout",
     "output_type": "stream",
     "text": [
      "Which list would you like to fetch data from?first\n",
      "Which number would you like?0\n",
      "Black Widow\n"
     ]
    }
   ],
   "source": [
    "#learnt the eval string from yuanzhe \n",
    "#nice\n",
    "#trying to make it such that the user can customise the list and index they want \n",
    "\n",
    "First = py_super_names\n",
    "Second = py_real_names\n",
    "\n",
    "storage_area = eval(input(\"Which list would you like to fetch data from?\").capitalize())\n",
    "index = eval(input(\"Which number would you like?\"))\n",
    "\n",
    "print (storage_area[index])\n",
    "\n",
    "#eval is p neat"
   ]
  },
  {
   "cell_type": "markdown",
   "id": "0dfb35d0",
   "metadata": {},
   "source": [
    "### 1.3 Accessing data from a dictionary"
   ]
  },
  {
   "cell_type": "code",
   "execution_count": 32,
   "id": "55df2900",
   "metadata": {},
   "outputs": [
    {
     "name": "stdout",
     "output_type": "stream",
     "text": [
      "Who would you like to expose?iron man\n",
      "Tony Stark\n"
     ]
    }
   ],
   "source": [
    "superhero_info = {\"Natasha Romanoff\": \"Black Widow\",\n",
    "                   \"Iron Man\": \"Tony Stark\",\n",
    "                  \"Doctor Strange\": \"Stephen Strange\"}\n",
    "\n",
    "def reveal_identity(name):\n",
    "    print(superhero_info[name.title()])\n",
    "    \n",
    "name = input(\"Who would you like to expose?\")\n",
    "\n",
    "reveal_identity(name)\n",
    "\n"
   ]
  },
  {
   "cell_type": "code",
   "execution_count": null,
   "id": "1246d45b",
   "metadata": {},
   "outputs": [],
   "source": [
    "#so far have learnt: eval, title, capitalise"
   ]
  },
  {
   "cell_type": "markdown",
   "id": "70edc79c",
   "metadata": {},
   "source": [
    "### 1.4 Higher dimensional lists"
   ]
  },
  {
   "cell_type": "code",
   "execution_count": null,
   "id": "9cab168a",
   "metadata": {},
   "outputs": [],
   "source": [
    "py_superhero_info = [['Natasha Romanoff', 'Black Widow'],\n",
    "                     ['Tony Stark', 'Iron Man'],\n",
    "                     ['Stephen Strange', 'Doctor Strange']]\n",
    "\n",
    "#wait so an array is just multiple dictionaries or lists grouped together?"
   ]
  },
  {
   "cell_type": "markdown",
   "id": "0cabc823",
   "metadata": {},
   "source": [
    "## 2 Lists vs. Arrays"
   ]
  },
  {
   "cell_type": "markdown",
   "id": "73f83cd6",
   "metadata": {},
   "source": [
    "### 2.1 Size"
   ]
  },
  {
   "cell_type": "code",
   "execution_count": 3,
   "id": "33fe0299",
   "metadata": {},
   "outputs": [
    {
     "data": {
      "text/plain": [
       "10"
      ]
     },
     "execution_count": 3,
     "metadata": {},
     "output_type": "execute_result"
    }
   ],
   "source": [
    "#checking number of elements in the array (or a list in this case)\n",
    "py_list_2d = [[1, \"A\"], [2, \"B\"], [3, \"C\"], [4, \"D\"],\n",
    "              [5, \"E\"], [6, \"F\"], [7, \"G\"], [8, \"H\"],\n",
    "              [9, \"I\"], [10, \"J\"]]\n",
    "\n",
    "import numpy as np \n",
    "np_array_2d = np.array(py_list_2d)      # Reusing the Python list \n",
    "                                        # to create a NEW\n",
    "                                        # NumPy array\n",
    "\n",
    "        #gotta first equate the initial list to the array\n",
    "        \n",
    "len(np_array_2d)"
   ]
  },
  {
   "cell_type": "code",
   "execution_count": 5,
   "id": "7c853f96",
   "metadata": {},
   "outputs": [
    {
     "data": {
      "text/plain": [
       "(12, 2)"
      ]
     },
     "execution_count": 5,
     "metadata": {},
     "output_type": "execute_result"
    }
   ],
   "source": [
    "#alternative method of checking the number of elements AND shape of the array (which is also just a list in this case)\n",
    "\n",
    "py_list_2d = [[1, \"A\"], [2, \"B\"], [3, \"C\"], [4, \"D\"],\n",
    "              [5, \"E\"], [6, \"F\"], [7, \"G\"], [8, \"H\"],\n",
    "              [9, \"I\"], [10, \"J\"], [11, \"K\"], [12, \"L\"]]\n",
    "\n",
    "import numpy as np \n",
    "np_array_2d = np.array(py_list_2d)\n",
    "\n",
    "#gotta first equate the initial list to the array\n",
    "\n",
    "np_array_2d.shape\n",
    "\n",
    "#wait how do i get it to be a 3 instead of a 2 in my output \n",
    "#does the 2 mean like 2d?"
   ]
  },
  {
   "cell_type": "markdown",
   "id": "96bf1015",
   "metadata": {},
   "source": [
    "### 2.2 Arrays are fussy about type"
   ]
  },
  {
   "cell_type": "code",
   "execution_count": 6,
   "id": "1e565ea4",
   "metadata": {},
   "outputs": [
    {
     "data": {
      "text/plain": [
       "array(['1', '1.5', 'A'], dtype='<U32')"
      ]
     },
     "execution_count": 6,
     "metadata": {},
     "output_type": "execute_result"
    }
   ],
   "source": [
    "py_list = [1, 1.5, 'A']\n",
    "np.array(py_list)\n",
    "\n",
    "#lowkey dk what's gg on here\n",
    "#they said observe how the numbers get changed to english\n",
    "#isit coz they now have quotations marks which is why technically it's considered as text/english?"
   ]
  },
  {
   "cell_type": "markdown",
   "id": "ff6f54d5",
   "metadata": {},
   "source": [
    "### 2.3 Adding a number"
   ]
  },
  {
   "cell_type": "code",
   "execution_count": 7,
   "id": "9a9c531f",
   "metadata": {},
   "outputs": [
    {
     "ename": "TypeError",
     "evalue": "can only concatenate list (not \"int\") to list",
     "output_type": "error",
     "traceback": [
      "\u001b[1;31m---------------------------------------------------------------------------\u001b[0m",
      "\u001b[1;31mTypeError\u001b[0m                                 Traceback (most recent call last)",
      "Cell \u001b[1;32mIn[7], line 10\u001b[0m\n\u001b[0;32m      4\u001b[0m np_array \u001b[38;5;241m=\u001b[39m np\u001b[38;5;241m.\u001b[39marray(py_list)         \u001b[38;5;66;03m# Reusing the Python list\u001b[39;00m\n\u001b[0;32m      5\u001b[0m                                      \u001b[38;5;66;03m# to create a NEW\u001b[39;00m\n\u001b[0;32m      6\u001b[0m                                      \u001b[38;5;66;03m# NumPy array\u001b[39;00m\n\u001b[0;32m      7\u001b[0m \u001b[38;5;66;03m#just quote the array and add 10\u001b[39;00m\n\u001b[0;32m      8\u001b[0m \u001b[38;5;66;03m#now gonna test using a list which won't work \u001b[39;00m\n\u001b[1;32m---> 10\u001b[0m \u001b[43mpy_list\u001b[49m\u001b[43m \u001b[49m\u001b[38;5;241;43m+\u001b[39;49m\u001b[43m \u001b[49m\u001b[38;5;241;43m10\u001b[39;49m \n",
      "\u001b[1;31mTypeError\u001b[0m: can only concatenate list (not \"int\") to list"
     ]
    }
   ],
   "source": [
    "#arrays can add number but lists cannot \n",
    "\n",
    "py_list = [1, 2, 3, 4, 5]\n",
    "np_array = np.array(py_list)         # Reusing the Python list\n",
    "                                     # to create a NEW\n",
    "                                     # NumPy array\n",
    "#just quote the array and add 10\n",
    "#now gonna test using a list which won't work \n",
    "\n",
    "py_list + 10 \n",
    "\n",
    "#output says can combine list with list but not int with list"
   ]
  },
  {
   "cell_type": "code",
   "execution_count": null,
   "id": "2746026b",
   "metadata": {},
   "outputs": [],
   "source": [
    "#gonna create a new dummy list and try to combine\n",
    "#expecting to need to have the same numbering format before i can combine the lists but we'll see ig \n",
    "\n",
    "py_list = [1, 2, 3, 4, 5]\n",
    "np_array = np.array(py_list)       \n",
    "\n",
    "#dummy list \n",
    "\n",
    "py_dummy = [1,1,1,1,1]\n",
    "np_array = np.array(py_dummy_list)\n",
    "\n"
   ]
  },
  {
   "cell_type": "markdown",
   "id": "ab5a79db",
   "metadata": {},
   "source": [
    "### 2.4 Adding another list"
   ]
  },
  {
   "cell_type": "code",
   "execution_count": null,
   "id": "f0a1152a",
   "metadata": {},
   "outputs": [],
   "source": [
    "\n",
    "\n"
   ]
  },
  {
   "cell_type": "markdown",
   "id": "d11c7b31",
   "metadata": {},
   "source": [
    "### 2.5 Multiplying by a Number"
   ]
  },
  {
   "cell_type": "code",
   "execution_count": null,
   "id": "1887c0a3",
   "metadata": {},
   "outputs": [],
   "source": [
    "\n",
    "# Your code here\n"
   ]
  },
  {
   "cell_type": "markdown",
   "id": "29a4ea6d",
   "metadata": {},
   "source": [
    "### 2.6 Squaring"
   ]
  },
  {
   "cell_type": "code",
   "execution_count": null,
   "id": "15062cc4",
   "metadata": {},
   "outputs": [],
   "source": [
    "\n",
    "# Your code here\n"
   ]
  },
  {
   "cell_type": "markdown",
   "id": "d4a864ef",
   "metadata": {},
   "source": [
    "### 2.7 Asking questions"
   ]
  },
  {
   "cell_type": "code",
   "execution_count": null,
   "id": "c85dfc92",
   "metadata": {},
   "outputs": [],
   "source": [
    "\n",
    "# Your code here\n"
   ]
  },
  {
   "cell_type": "markdown",
   "id": "eeadb2e7",
   "metadata": {},
   "source": [
    "### 2.8 Mathematics"
   ]
  },
  {
   "cell_type": "code",
   "execution_count": null,
   "id": "5b55a286",
   "metadata": {},
   "outputs": [],
   "source": [
    "\n",
    "# Your code here\n"
   ]
  },
  {
   "cell_type": "markdown",
   "id": "ae181832",
   "metadata": {},
   "source": [
    "## Exercise 1 :  Total recall?"
   ]
  },
  {
   "cell_type": "code",
   "execution_count": null,
   "id": "41bb2c08",
   "metadata": {},
   "outputs": [],
   "source": [
    "\n",
    "\n",
    "\n",
    "# Your solution here\n",
    "\n",
    "\n"
   ]
  },
  {
   "cell_type": "markdown",
   "id": "0786310e",
   "metadata": {},
   "source": [
    "## Exercise 2 :  Index me"
   ]
  },
  {
   "cell_type": "code",
   "execution_count": null,
   "id": "d650ec33",
   "metadata": {},
   "outputs": [],
   "source": [
    "\n",
    "\n",
    "\n",
    "# Your solution here\n",
    "\n",
    "\n"
   ]
  },
  {
   "cell_type": "markdown",
   "id": "c2becdb4",
   "metadata": {},
   "source": [
    "## Exercise 3 :  Capitalise Heros"
   ]
  },
  {
   "cell_type": "code",
   "execution_count": null,
   "id": "a0ed7f20",
   "metadata": {},
   "outputs": [],
   "source": [
    "\n",
    "\n",
    "\n",
    "# Your solution here\n",
    "\n",
    "\n"
   ]
  },
  {
   "cell_type": "markdown",
   "id": "a4b1b4e4",
   "metadata": {},
   "source": [
    "## Exercise 4 :  How many ones"
   ]
  },
  {
   "cell_type": "code",
   "execution_count": null,
   "id": "e3ca21fa",
   "metadata": {},
   "outputs": [],
   "source": [
    "\n",
    "\n",
    "\n",
    "# Your solution here\n",
    "\n",
    "\n"
   ]
  }
 ],
 "metadata": {
  "kernelspec": {
   "display_name": "Python 3 (ipykernel)",
   "language": "python",
   "name": "python3"
  },
  "language_info": {
   "codemirror_mode": {
    "name": "ipython",
    "version": 3
   },
   "file_extension": ".py",
   "mimetype": "text/x-python",
   "name": "python",
   "nbconvert_exporter": "python",
   "pygments_lexer": "ipython3",
   "version": "3.10.8"
  },
  "toc": {
   "base_numbering": 1,
   "nav_menu": {},
   "number_sections": true,
   "sideBar": true,
   "skip_h1_title": false,
   "title_cell": "Table of Contents",
   "title_sidebar": "Contents",
   "toc_cell": false,
   "toc_position": {},
   "toc_section_display": true,
   "toc_window_display": false
  },
  "vscode": {
   "interpreter": {
    "hash": "31f2aee4e71d21fbe5cf8b01ff0e069b9275f58929596ceb00d14d90e3e16cd6"
   }
  }
 },
 "nbformat": 4,
 "nbformat_minor": 5
}
